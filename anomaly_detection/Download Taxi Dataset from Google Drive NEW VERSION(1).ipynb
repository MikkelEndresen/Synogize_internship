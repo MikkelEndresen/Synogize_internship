{
 "cells": [
  {
   "cell_type": "code",
   "execution_count": 0,
   "metadata": {
    "application/vnd.databricks.v1+cell": {
     "cellMetadata": {
      "byteLimit": 2048000,
      "rowLimit": 10000
     },
     "inputWidgets": {},
     "nuid": "0650b88a-5e0f-490a-b266-c91f4ec913f5",
     "showTitle": false,
     "tableResultSettingsMap": {},
     "title": ""
    }
   },
   "outputs": [
    {
     "output_type": "stream",
     "name": "stdout",
     "output_type": "stream",
     "text": [
      "Collecting gdown\r\n  Downloading gdown-5.2.0-py3-none-any.whl (18 kB)\r\nRequirement already satisfied: requests[socks] in /databricks/python3/lib/python3.9/site-packages (from gdown) (2.27.1)\r\nRequirement already satisfied: beautifulsoup4 in /databricks/python3/lib/python3.9/site-packages (from gdown) (4.11.1)\r\nRequirement already satisfied: filelock in /usr/local/lib/python3.9/dist-packages (from gdown) (3.9.0)\r\nCollecting tqdm\r\n  Downloading tqdm-4.67.1-py3-none-any.whl (78 kB)\r\n\u001B[?25l\r\u001B[K     |████▏                           | 10 kB 6.8 MB/s eta 0:00:01\r\u001B[K     |████████▍                       | 20 kB 6.0 MB/s eta 0:00:01\r\u001B[K     |████████████▌                   | 30 kB 8.8 MB/s eta 0:00:01\r\u001B[K     |████████████████▊               | 40 kB 5.0 MB/s eta 0:00:01\r\u001B[K     |████████████████████▉           | 51 kB 5.3 MB/s eta 0:00:01\r\u001B[K     |█████████████████████████       | 61 kB 6.2 MB/s eta 0:00:01\r\u001B[K     |█████████████████████████████▏  | 71 kB 6.2 MB/s eta 0:00:01\r\u001B[K     |████████████████████████████████| 78 kB 4.9 MB/s \r\n\u001B[?25hRequirement already satisfied: soupsieve>1.2 in /databricks/python3/lib/python3.9/site-packages (from beautifulsoup4->gdown) (2.3.1)\r\nRequirement already satisfied: charset-normalizer~=2.0.0 in /databricks/python3/lib/python3.9/site-packages (from requests[socks]->gdown) (2.0.4)\r\nRequirement already satisfied: idna<4,>=2.5 in /databricks/python3/lib/python3.9/site-packages (from requests[socks]->gdown) (3.3)\r\nRequirement already satisfied: certifi>=2017.4.17 in /databricks/python3/lib/python3.9/site-packages (from requests[socks]->gdown) (2021.10.8)\r\nRequirement already satisfied: urllib3<1.27,>=1.21.1 in /databricks/python3/lib/python3.9/site-packages (from requests[socks]->gdown) (1.26.9)\r\nCollecting PySocks!=1.5.7,>=1.5.6\r\n  Downloading PySocks-1.7.1-py3-none-any.whl (16 kB)\r\nInstalling collected packages: PySocks, tqdm, gdown\r\nSuccessfully installed PySocks-1.7.1 gdown-5.2.0 tqdm-4.67.1\r\n\u001B[33mWARNING: You are using pip version 21.2.4; however, version 24.3.1 is available.\r\nYou should consider upgrading via the '/local_disk0/.ephemeral_nfs/envs/pythonEnv-e6374464-9cc4-4c24-b7ad-c34c143f4404/bin/python -m pip install --upgrade pip' command.\u001B[0m\r\n"
     ]
    }
   ],
   "source": [
    "!pip install gdown\n",
    "import gdown"
   ]
  },
  {
   "cell_type": "markdown",
   "metadata": {
    "application/vnd.databricks.v1+cell": {
     "cellMetadata": {},
     "inputWidgets": {},
     "nuid": "b92e8275-a200-498b-a3cd-5c230dcdb8b7",
     "showTitle": false,
     "tableResultSettingsMap": {},
     "title": ""
    }
   },
   "source": [
    "# **Green Taxi**"
   ]
  },
  {
   "cell_type": "markdown",
   "metadata": {
    "application/vnd.databricks.v1+cell": {
     "cellMetadata": {},
     "inputWidgets": {},
     "nuid": "1f82e970-c7f4-46c6-b38c-e2f8902c5c93",
     "showTitle": false,
     "tableResultSettingsMap": {},
     "title": ""
    }
   },
   "source": [
    "##### Green Taxi - 2015"
   ]
  },
  {
   "cell_type": "code",
   "execution_count": 0,
   "metadata": {
    "application/vnd.databricks.v1+cell": {
     "cellMetadata": {
      "byteLimit": 2048000,
      "rowLimit": 10000
     },
     "inputWidgets": {},
     "nuid": "ea8e6561-4dba-4eb1-b3f0-c81fdd360caf",
     "showTitle": false,
     "tableResultSettingsMap": {},
     "title": ""
    }
   },
   "outputs": [],
   "source": [
    "# File details\n",
    "file_id = '137oXWkqBOQcxmgHynPv6Wh_fHUqN40n3'\n",
    "filename = 'green_taxi_2015.parquet'\n",
    "taxi_type = 'green'\n",
    "\n",
    "# URL\n",
    "url = f\"https://drive.google.com/uc?id={file_id}\"\n",
    "\n",
    "# Output path\n",
    "output_path = \"/tmp/{file_id}\"\n",
    "\n",
    "# Download the file\n",
    "gdown.download(url, output=output_path, quiet=False)\n",
    "\n",
    "# Transfer the file to DBFS\n",
    "dbutils.fs.mv(f\"file:{output_path}\", f\"dbfs:/FileStore/{taxi_type}/{filename}\")\n"
   ]
  },
  {
   "cell_type": "markdown",
   "metadata": {
    "application/vnd.databricks.v1+cell": {
     "cellMetadata": {},
     "inputWidgets": {},
     "nuid": "c6d15bea-aea7-4310-93e2-30ad041036db",
     "showTitle": false,
     "tableResultSettingsMap": {},
     "title": ""
    }
   },
   "source": [
    "##### Green Taxi - 2016"
   ]
  },
  {
   "cell_type": "code",
   "execution_count": 0,
   "metadata": {
    "application/vnd.databricks.v1+cell": {
     "cellMetadata": {
      "byteLimit": 2048000,
      "rowLimit": 10000
     },
     "inputWidgets": {},
     "nuid": "f439413f-6df2-4cb7-b705-f76f3c76e838",
     "showTitle": false,
     "tableResultSettingsMap": {},
     "title": ""
    }
   },
   "outputs": [],
   "source": [
    "# File details\n",
    "file_id = '1s0drAVqulJ_hE4RRqMSNJWyQGF6RKAtA'\n",
    "filename = 'green_taxi_2016.parquet'\n",
    "taxi_type = 'green'\n",
    "\n",
    "# URL\n",
    "url = f\"https://drive.google.com/uc?id={file_id}\"\n",
    "\n",
    "# Output path\n",
    "output_path = \"/tmp/{file_id}\"\n",
    "\n",
    "# Download the file\n",
    "gdown.download(url, output=output_path, quiet=False)\n",
    "\n",
    "# Transfer the file to DBFS\n",
    "dbutils.fs.mv(f\"file:{output_path}\", f\"dbfs:/FileStore/{taxi_type}/{filename}\")"
   ]
  },
  {
   "cell_type": "markdown",
   "metadata": {
    "application/vnd.databricks.v1+cell": {
     "cellMetadata": {},
     "inputWidgets": {},
     "nuid": "55bb9a8a-8394-4853-b5a1-74ece417dc32",
     "showTitle": false,
     "tableResultSettingsMap": {},
     "title": ""
    }
   },
   "source": [
    "##### Green Taxi - 2017"
   ]
  },
  {
   "cell_type": "code",
   "execution_count": 0,
   "metadata": {
    "application/vnd.databricks.v1+cell": {
     "cellMetadata": {},
     "inputWidgets": {},
     "nuid": "693ff07e-758a-4b27-818a-11a911d2855e",
     "showTitle": false,
     "tableResultSettingsMap": {},
     "title": ""
    }
   },
   "outputs": [],
   "source": [
    "# File details\n",
    "file_id = '1-VpjWArKPEdjzlTZxI7aPwd8UsVfc2bL'\n",
    "filename = 'green_taxi_2017.parquet'\n",
    "taxi_type = 'green'\n",
    "\n",
    "# URL\n",
    "url = f\"https://drive.google.com/uc?id={file_id}\"\n",
    "\n",
    "# Output path\n",
    "output_path = \"/tmp/{file_id}\"\n",
    "\n",
    "# Download the file\n",
    "gdown.download(url, output=output_path, quiet=False)\n",
    "\n",
    "# Transfer the file to DBFS\n",
    "dbutils.fs.mv(f\"file:{output_path}\", f\"dbfs:/FileStore/{taxi_type}/{filename}\")\n"
   ]
  },
  {
   "cell_type": "markdown",
   "metadata": {
    "application/vnd.databricks.v1+cell": {
     "cellMetadata": {},
     "inputWidgets": {},
     "nuid": "219466eb-18a4-4840-ab3e-4611efcdf8cd",
     "showTitle": false,
     "tableResultSettingsMap": {},
     "title": ""
    }
   },
   "source": [
    "##### Green Taxi - 2018"
   ]
  },
  {
   "cell_type": "code",
   "execution_count": 0,
   "metadata": {
    "application/vnd.databricks.v1+cell": {
     "cellMetadata": {},
     "inputWidgets": {},
     "nuid": "30fa00f9-b15f-490c-b98f-f667e924cdd2",
     "showTitle": false,
     "tableResultSettingsMap": {},
     "title": ""
    }
   },
   "outputs": [],
   "source": [
    "# File details\n",
    "file_id = '1jDn7qjFZ3-nrn4iOdFMh_p0W21esiIHn'\n",
    "filename = 'green_taxi_2018.parquet'\n",
    "taxi_type = 'green'\n",
    "\n",
    "# URL\n",
    "url = f\"https://drive.google.com/uc?id={file_id}\"\n",
    "\n",
    "# Output path\n",
    "output_path = \"/tmp/{file_id}\"\n",
    "\n",
    "# Download the file\n",
    "gdown.download(url, output=output_path, quiet=False)\n",
    "\n",
    "# Transfer the file to DBFS\n",
    "dbutils.fs.mv(f\"file:{output_path}\", f\"dbfs:/FileStore/{taxi_type}/{filename}\")\n"
   ]
  },
  {
   "cell_type": "markdown",
   "metadata": {
    "application/vnd.databricks.v1+cell": {
     "cellMetadata": {},
     "inputWidgets": {},
     "nuid": "78a3a00f-1a75-49bd-8aab-c7af43610e5f",
     "showTitle": false,
     "tableResultSettingsMap": {},
     "title": ""
    }
   },
   "source": [
    "##### Green Taxi - 2019"
   ]
  },
  {
   "cell_type": "code",
   "execution_count": 0,
   "metadata": {
    "application/vnd.databricks.v1+cell": {
     "cellMetadata": {},
     "inputWidgets": {},
     "nuid": "6c30c42e-7e36-4032-af60-60f47777df35",
     "showTitle": false,
     "tableResultSettingsMap": {},
     "title": ""
    }
   },
   "outputs": [],
   "source": [
    "# File details\n",
    "file_id = '1BpjTq89EAhb6m-ICcZMEpTISw6jTHmio'\n",
    "filename = 'green_taxi_2019.parquet'\n",
    "taxi_type = 'green'\n",
    "\n",
    "# URL\n",
    "url = f\"https://drive.google.com/uc?id={file_id}\"\n",
    "\n",
    "# Output path\n",
    "output_path = \"/tmp/{file_id}\"\n",
    "\n",
    "# Download the file\n",
    "gdown.download(url, output=output_path, quiet=False)\n",
    "\n",
    "# Transfer the file to DBFS\n",
    "dbutils.fs.mv(f\"file:{output_path}\", f\"dbfs:/FileStore/{taxi_type}/{filename}\")\n"
   ]
  },
  {
   "cell_type": "markdown",
   "metadata": {
    "application/vnd.databricks.v1+cell": {
     "cellMetadata": {},
     "inputWidgets": {},
     "nuid": "0afdd308-2353-482d-b18a-1adba1f23224",
     "showTitle": false,
     "tableResultSettingsMap": {},
     "title": ""
    }
   },
   "source": [
    "##### Green Taxi - 2020"
   ]
  },
  {
   "cell_type": "code",
   "execution_count": 0,
   "metadata": {
    "application/vnd.databricks.v1+cell": {
     "cellMetadata": {},
     "inputWidgets": {},
     "nuid": "fddd1639-b147-491a-8579-295302db86b2",
     "showTitle": false,
     "tableResultSettingsMap": {},
     "title": ""
    }
   },
   "outputs": [],
   "source": [
    "# File details\n",
    "file_id = '1umIMHrqaqagZYqvLLf-OzidnDPwxIY5j'\n",
    "filename = 'green_taxi_2020.parquet'\n",
    "taxi_type = 'green'\n",
    "\n",
    "# URL\n",
    "url = f\"https://drive.google.com/uc?id={file_id}\"\n",
    "\n",
    "# Output path\n",
    "output_path = \"/tmp/{file_id}\"\n",
    "\n",
    "# Download the file\n",
    "gdown.download(url, output=output_path, quiet=False)\n",
    "\n",
    "# Transfer the file to DBFS\n",
    "dbutils.fs.mv(f\"file:{output_path}\", f\"dbfs:/FileStore/{taxi_type}/{filename}\")\n"
   ]
  },
  {
   "cell_type": "markdown",
   "metadata": {
    "application/vnd.databricks.v1+cell": {
     "cellMetadata": {},
     "inputWidgets": {},
     "nuid": "a7883610-d39b-4151-814b-60ea0d54824b",
     "showTitle": false,
     "tableResultSettingsMap": {},
     "title": ""
    }
   },
   "source": [
    "##### Green Taxi - 2021"
   ]
  },
  {
   "cell_type": "code",
   "execution_count": 0,
   "metadata": {
    "application/vnd.databricks.v1+cell": {
     "cellMetadata": {},
     "inputWidgets": {},
     "nuid": "1dd1c54f-4d66-442b-a06f-a5d5f3ce5654",
     "showTitle": false,
     "tableResultSettingsMap": {},
     "title": ""
    }
   },
   "outputs": [],
   "source": [
    "# File details\n",
    "file_id = '1ISKrR97II-zWR7f2_boFcyfsNgsj8K1Y'\n",
    "filename = 'green_taxi_2021.parquet'\n",
    "taxi_type = 'green'\n",
    "\n",
    "# URL\n",
    "url = f\"https://drive.google.com/uc?id={file_id}\"\n",
    "\n",
    "# Output path\n",
    "output_path = \"/tmp/{file_id}\"\n",
    "\n",
    "# Download the file\n",
    "gdown.download(url, output=output_path, quiet=False)\n",
    "\n",
    "# Transfer the file to DBFS\n",
    "dbutils.fs.mv(f\"file:{output_path}\", f\"dbfs:/FileStore/{taxi_type}/{filename}\")\n"
   ]
  },
  {
   "cell_type": "markdown",
   "metadata": {
    "application/vnd.databricks.v1+cell": {
     "cellMetadata": {},
     "inputWidgets": {},
     "nuid": "dbb0829b-f496-4028-b629-05de42abf10a",
     "showTitle": false,
     "tableResultSettingsMap": {},
     "title": ""
    }
   },
   "source": [
    "##### Green Taxi - 2022"
   ]
  },
  {
   "cell_type": "code",
   "execution_count": 0,
   "metadata": {
    "application/vnd.databricks.v1+cell": {
     "cellMetadata": {},
     "inputWidgets": {},
     "nuid": "cd328d86-fe4f-45b0-8a51-c2e50084bb8a",
     "showTitle": false,
     "tableResultSettingsMap": {},
     "title": ""
    }
   },
   "outputs": [],
   "source": [
    "# File details\n",
    "file_id = '1ysXV_4hB3Ex43k1HOvCi8RCT1k7GZANj'\n",
    "filename = 'green_taxi_2022.parquet'\n",
    "taxi_type = 'green'\n",
    "\n",
    "# URL\n",
    "url = f\"https://drive.google.com/uc?id={file_id}\"\n",
    "\n",
    "# Output path\n",
    "output_path = \"/tmp/{file_id}\"\n",
    "\n",
    "# Download the file\n",
    "gdown.download(url, output=output_path, quiet=False)\n",
    "\n",
    "# Transfer the file to DBFS\n",
    "dbutils.fs.mv(f\"file:{output_path}\", f\"dbfs:/FileStore/{taxi_type}/{filename}\")\n"
   ]
  },
  {
   "cell_type": "code",
   "execution_count": 0,
   "metadata": {
    "application/vnd.databricks.v1+cell": {
     "cellMetadata": {
      "byteLimit": 2048000,
      "rowLimit": 10000
     },
     "inputWidgets": {},
     "nuid": "41a7b55f-e697-4c5e-b549-45bffc9a62cc",
     "showTitle": false,
     "tableResultSettingsMap": {},
     "title": ""
    }
   },
   "outputs": [],
   "source": [
    "df_green = spark.read.parquet(f\"/FileStore/{taxi_type}\")\n",
    "df_green.show()"
   ]
  },
  {
   "cell_type": "markdown",
   "metadata": {
    "application/vnd.databricks.v1+cell": {
     "cellMetadata": {},
     "inputWidgets": {},
     "nuid": "86e4cf73-463e-4018-b208-a6ce94b80d33",
     "showTitle": false,
     "tableResultSettingsMap": {},
     "title": ""
    }
   },
   "source": [
    "# **Yellow Taxi**"
   ]
  },
  {
   "cell_type": "markdown",
   "metadata": {
    "application/vnd.databricks.v1+cell": {
     "cellMetadata": {},
     "inputWidgets": {},
     "nuid": "aacb012c-88dc-4a6d-a521-9c035e322641",
     "showTitle": false,
     "tableResultSettingsMap": {},
     "title": ""
    }
   },
   "source": [
    "##### Yellow Taxi - 2015"
   ]
  },
  {
   "cell_type": "code",
   "execution_count": 0,
   "metadata": {
    "application/vnd.databricks.v1+cell": {
     "cellMetadata": {
      "byteLimit": 2048000,
      "rowLimit": 10000
     },
     "inputWidgets": {},
     "nuid": "e10c872a-4e4a-4b5b-af23-06f18ae94ab6",
     "showTitle": false,
     "tableResultSettingsMap": {},
     "title": ""
    }
   },
   "outputs": [],
   "source": [
    "# File details\n",
    "file_id = '1owWyJDNTWyLT0ln2iK5ulkmSYvXZ7qkf'\n",
    "filename = 'yellow_taxi_2015.parquet'\n",
    "taxi_type = 'yellow'\n",
    "\n",
    "# URL\n",
    "url = f\"https://drive.google.com/uc?id={file_id}\"\n",
    "\n",
    "# Output path\n",
    "output_path = \"/tmp/{file_id}\"\n",
    "\n",
    "# Download the file\n",
    "gdown.download(url, output=output_path, quiet=False)\n",
    "\n",
    "# Transfer the file to DBFS\n",
    "dbutils.fs.mv(f\"file:{output_path}\", f\"dbfs:/FileStore/{taxi_type}/{filename}\")\n"
   ]
  },
  {
   "cell_type": "markdown",
   "metadata": {
    "application/vnd.databricks.v1+cell": {
     "cellMetadata": {},
     "inputWidgets": {},
     "nuid": "5c74a829-be12-4672-b249-78df2888fc4b",
     "showTitle": false,
     "tableResultSettingsMap": {},
     "title": ""
    }
   },
   "source": [
    "##### Yellow Taxi - 2016"
   ]
  },
  {
   "cell_type": "code",
   "execution_count": 0,
   "metadata": {
    "application/vnd.databricks.v1+cell": {
     "cellMetadata": {},
     "inputWidgets": {},
     "nuid": "2f583fba-4fa2-4450-81ca-b65b06219aca",
     "showTitle": false,
     "tableResultSettingsMap": {},
     "title": ""
    }
   },
   "outputs": [],
   "source": [
    "# File details\n",
    "file_id = '1OdIcvpyFH1YXn9SNHc8YEuVFAYQpxCUw'\n",
    "filename = 'yellow_taxi_2016.parquet'\n",
    "taxi_type = 'yellow'\n",
    "\n",
    "# URL\n",
    "url = f\"https://drive.google.com/uc?id={file_id}\"\n",
    "\n",
    "# Output path\n",
    "output_path = \"/tmp/{file_id}\"\n",
    "\n",
    "# Download the file\n",
    "gdown.download(url, output=output_path, quiet=False)\n",
    "\n",
    "# Transfer the file to DBFS\n",
    "dbutils.fs.mv(f\"file:{output_path}\", f\"dbfs:/FileStore/{taxi_type}/{filename}\")\n"
   ]
  },
  {
   "cell_type": "markdown",
   "metadata": {
    "application/vnd.databricks.v1+cell": {
     "cellMetadata": {},
     "inputWidgets": {},
     "nuid": "5759853d-54c4-4f57-bd0e-9d6d939cc4ab",
     "showTitle": false,
     "tableResultSettingsMap": {},
     "title": ""
    }
   },
   "source": [
    "##### Yellow Taxi - 2017"
   ]
  },
  {
   "cell_type": "code",
   "execution_count": 0,
   "metadata": {
    "application/vnd.databricks.v1+cell": {
     "cellMetadata": {
      "byteLimit": 2048000,
      "rowLimit": 10000
     },
     "inputWidgets": {},
     "nuid": "dd398153-7ca5-4c98-aad9-59e639f7b70e",
     "showTitle": false,
     "tableResultSettingsMap": {},
     "title": ""
    }
   },
   "outputs": [],
   "source": [
    "# File details\n",
    "file_id = '1rtEhtit_2rKvWgutXNIpSWPk3vuE6q8r'\n",
    "filename = 'yellow_taxi_2017.parquet'\n",
    "taxi_type = 'yellow'\n",
    "\n",
    "# URL\n",
    "url = f\"https://drive.google.com/uc?id={file_id}\"\n",
    "\n",
    "# Output path\n",
    "output_path = \"/tmp/{file_id}\"\n",
    "\n",
    "# Download the file\n",
    "gdown.download(url, output=output_path, quiet=False)\n",
    "\n",
    "# Transfer the file to DBFS\n",
    "dbutils.fs.mv(f\"file:{output_path}\", f\"dbfs:/FileStore/{taxi_type}/{filename}\")\n"
   ]
  },
  {
   "cell_type": "markdown",
   "metadata": {
    "application/vnd.databricks.v1+cell": {
     "cellMetadata": {},
     "inputWidgets": {},
     "nuid": "ec7fcacf-664b-4365-8c89-68023c9360fc",
     "showTitle": false,
     "tableResultSettingsMap": {},
     "title": ""
    }
   },
   "source": [
    "##### Yellow Taxi - 2018"
   ]
  },
  {
   "cell_type": "code",
   "execution_count": 0,
   "metadata": {
    "application/vnd.databricks.v1+cell": {
     "cellMetadata": {
      "byteLimit": 2048000,
      "rowLimit": 10000
     },
     "inputWidgets": {},
     "nuid": "6c51216c-2a76-4b19-aa9a-3bfc13b247d8",
     "showTitle": false,
     "tableResultSettingsMap": {},
     "title": ""
    }
   },
   "outputs": [],
   "source": [
    "# File details\n",
    "file_id = '1073SHSIkWcSESNZoU0JHXudRlSzJXPM9'\n",
    "filename = 'yellow_taxi_2018.parquet'\n",
    "taxi_type = 'yellow'\n",
    "\n",
    "# URL\n",
    "url = f\"https://drive.google.com/uc?id={file_id}\"\n",
    "\n",
    "# Output path\n",
    "output_path = \"/tmp/{file_id}\"\n",
    "\n",
    "# Download the file\n",
    "gdown.download(url, output=output_path, quiet=False)\n",
    "\n",
    "# Transfer the file to DBFS\n",
    "dbutils.fs.mv(f\"file:{output_path}\", f\"dbfs:/FileStore/{taxi_type}/{filename}\")\n"
   ]
  },
  {
   "cell_type": "markdown",
   "metadata": {
    "application/vnd.databricks.v1+cell": {
     "cellMetadata": {},
     "inputWidgets": {},
     "nuid": "55bb829c-eeb8-43e9-8e1a-301692b7ce7f",
     "showTitle": false,
     "tableResultSettingsMap": {},
     "title": ""
    }
   },
   "source": [
    "##### Yellow Taxi - 2019"
   ]
  },
  {
   "cell_type": "code",
   "execution_count": 0,
   "metadata": {
    "application/vnd.databricks.v1+cell": {
     "cellMetadata": {
      "byteLimit": 2048000,
      "rowLimit": 10000
     },
     "inputWidgets": {},
     "nuid": "04c63342-4752-4408-af03-bcaf15df20b4",
     "showTitle": false,
     "tableResultSettingsMap": {},
     "title": ""
    }
   },
   "outputs": [
    {
     "output_type": "stream",
     "name": "stderr",
     "output_type": "stream",
     "text": [
      "Downloading...\nFrom (original): https://drive.google.com/uc?id=144mphzh2a6qerjLvCwwO_QHDsXTdNAJ3\nFrom (redirected): https://drive.google.com/uc?id=144mphzh2a6qerjLvCwwO_QHDsXTdNAJ3&confirm=t&uuid=27b0c452-c9cd-4b6b-9705-107183eefde3\nTo: /tmp/{file_id}\n\r  0%|          | 0.00/1.79G [00:00<?, ?B/s]\r  0%|          | 4.72M/1.79G [00:00<01:37, 18.2MB/s]\r  1%|▏         | 24.6M/1.79G [00:00<00:21, 81.6MB/s]\r  2%|▏         | 37.2M/1.79G [00:00<00:28, 60.8MB/s]\r  3%|▎         | 46.1M/1.79G [00:00<00:33, 52.6MB/s]\r  3%|▎         | 59.2M/1.79G [00:01<00:32, 52.7MB/s]\r  4%|▍         | 76.0M/1.79G [00:01<00:29, 57.7MB/s]\r  5%|▍         | 88.6M/1.79G [00:01<00:24, 69.1MB/s]\r  5%|▌         | 97.0M/1.79G [00:01<00:29, 56.6MB/s]\r  6%|▌         | 104M/1.79G [00:01<00:31, 54.0MB/s] \r  6%|▌         | 110M/1.79G [00:01<00:30, 54.4MB/s]\r  7%|▋         | 118M/1.79G [00:02<00:29, 57.1MB/s]\r  7%|▋         | 126M/1.79G [00:02<00:28, 57.9MB/s]\r  8%|▊         | 135M/1.79G [00:02<00:27, 60.6MB/s]\r  8%|▊         | 143M/1.79G [00:02<00:26, 61.0MB/s]\r  8%|▊         | 152M/1.79G [00:02<00:27, 60.5MB/s]\r  9%|▉         | 160M/1.79G [00:02<00:32, 50.1MB/s]\r 10%|▉         | 172M/1.79G [00:02<00:25, 64.4MB/s]\r 10%|█         | 180M/1.79G [00:03<00:38, 41.7MB/s]\r 10%|█         | 186M/1.79G [00:03<00:35, 45.0MB/s]\r 11%|█         | 193M/1.79G [00:03<00:39, 40.3MB/s]\r 12%|█▏        | 207M/1.79G [00:03<00:27, 56.9MB/s]\r 12%|█▏        | 215M/1.79G [00:04<00:43, 36.2MB/s]\r 13%|█▎        | 227M/1.79G [00:04<00:39, 39.2MB/s]\r 14%|█▎        | 242M/1.79G [00:04<00:28, 54.6MB/s]\r 14%|█▍        | 250M/1.79G [00:04<00:34, 44.2MB/s]\r 15%|█▌        | 269M/1.79G [00:05<00:33, 45.1MB/s]\r 16%|█▋        | 291M/1.79G [00:05<00:22, 67.4MB/s]\r 17%|█▋        | 302M/1.79G [00:05<00:25, 58.1MB/s]\r 18%|█▊        | 315M/1.79G [00:05<00:21, 67.9MB/s]\r 18%|█▊        | 325M/1.79G [00:06<00:25, 57.1MB/s]\r 19%|█▉        | 336M/1.79G [00:06<00:24, 60.0MB/s]\r 19%|█▉        | 344M/1.79G [00:06<00:25, 56.7MB/s]\r 20%|██        | 361M/1.79G [00:06<00:25, 55.4MB/s]\r 21%|██        | 373M/1.79G [00:06<00:21, 64.7MB/s]\r 22%|██▏       | 386M/1.79G [00:07<00:23, 60.6MB/s]\r 22%|██▏       | 402M/1.79G [00:07<00:18, 76.4MB/s]\r 23%|██▎       | 418M/1.79G [00:07<00:14, 91.7MB/s]\r 24%|██▍       | 429M/1.79G [00:07<00:15, 87.0MB/s]\r 25%|██▍       | 445M/1.79G [00:07<00:13, 101MB/s] \r 26%|██▌       | 462M/1.79G [00:07<00:11, 118MB/s]\r 27%|██▋       | 476M/1.79G [00:07<00:11, 116MB/s]\r 27%|██▋       | 489M/1.79G [00:07<00:12, 106MB/s]\r 28%|██▊       | 501M/1.79G [00:08<00:12, 99.8MB/s]\r 29%|██▉       | 519M/1.79G [00:08<00:10, 120MB/s] \r 30%|██▉       | 532M/1.79G [00:08<00:10, 118MB/s]\r 30%|███       | 545M/1.79G [00:08<00:11, 104MB/s]\r 31%|███       | 556M/1.79G [00:08<00:13, 94.0MB/s]\r 32%|███▏      | 572M/1.79G [00:08<00:11, 109MB/s] \r 33%|███▎      | 588M/1.79G [00:08<00:14, 82.7MB/s]\r 34%|███▍      | 605M/1.79G [00:09<00:14, 83.1MB/s]\r 34%|███▍      | 614M/1.79G [00:09<00:15, 74.3MB/s]\r 35%|███▌      | 630M/1.79G [00:09<00:14, 78.1MB/s]\r 36%|███▌      | 638M/1.79G [00:09<00:18, 63.2MB/s]\r 37%|███▋      | 655M/1.79G [00:09<00:14, 78.3MB/s]\r 37%|███▋      | 664M/1.79G [00:10<00:18, 61.9MB/s]\r 38%|███▊      | 674M/1.79G [00:10<00:16, 69.5MB/s]\r 38%|███▊      | 683M/1.79G [00:10<00:16, 66.3MB/s]\r 39%|███▊      | 690M/1.79G [00:10<00:22, 48.6MB/s]\r 40%|███▉      | 707M/1.79G [00:10<00:15, 68.6MB/s]\r 40%|████      | 717M/1.79G [00:11<00:19, 55.3MB/s]\r 41%|████      | 733M/1.79G [00:11<00:14, 74.0MB/s]\r 42%|████▏     | 743M/1.79G [00:11<00:17, 61.1MB/s]\r 42%|████▏     | 755M/1.79G [00:11<00:17, 58.9MB/s]\r 43%|████▎     | 775M/1.79G [00:11<00:12, 82.2MB/s]\r 44%|████▍     | 786M/1.79G [00:11<00:13, 71.9MB/s]\r 44%|████▍     | 795M/1.79G [00:12<00:14, 68.8MB/s]\r 45%|████▍     | 804M/1.79G [00:12<00:14, 66.1MB/s]\r 46%|████▌     | 816M/1.79G [00:12<00:12, 76.9MB/s]\r 46%|████▋     | 831M/1.79G [00:12<00:11, 87.0MB/s]\r 47%|████▋     | 841M/1.79G [00:12<00:17, 55.0MB/s]\r 48%|████▊     | 864M/1.79G [00:12<00:11, 83.0MB/s]\r 49%|████▉     | 876M/1.79G [00:13<00:13, 67.0MB/s]\r 50%|█████     | 896M/1.79G [00:13<00:09, 90.1MB/s]\r 51%|█████     | 909M/1.79G [00:13<00:14, 60.7MB/s]\r 52%|█████▏    | 923M/1.79G [00:14<00:16, 51.6MB/s]\r 53%|█████▎    | 943M/1.79G [00:14<00:12, 70.3MB/s]\r 53%|█████▎    | 955M/1.79G [00:14<00:12, 68.3MB/s]\r 54%|█████▍    | 974M/1.79G [00:14<00:11, 69.8MB/s]\r 55%|█████▍    | 983M/1.79G [00:14<00:11, 70.6MB/s]\r 56%|█████▌    | 999M/1.79G [00:15<00:11, 68.4MB/s]\r 57%|█████▋    | 1.02G/1.79G [00:15<00:08, 88.3MB/s]\r 58%|█████▊    | 1.03G/1.79G [00:15<00:09, 76.4MB/s]\r 58%|█████▊    | 1.04G/1.79G [00:15<00:08, 88.2MB/s]\r 59%|█████▉    | 1.05G/1.79G [00:15<00:08, 88.1MB/s]\r 60%|█████▉    | 1.06G/1.79G [00:15<00:07, 90.5MB/s]\r 60%|██████    | 1.08G/1.79G [00:15<00:08, 85.7MB/s]\r 61%|██████    | 1.09G/1.79G [00:15<00:06, 101MB/s] \r 62%|██████▏   | 1.10G/1.79G [00:16<00:07, 87.9MB/s]\r 62%|██████▏   | 1.11G/1.79G [00:16<00:09, 71.8MB/s]\r 63%|██████▎   | 1.13G/1.79G [00:16<00:06, 97.2MB/s]\r 64%|██████▍   | 1.14G/1.79G [00:16<00:07, 86.8MB/s]\r 65%|██████▍   | 1.16G/1.79G [00:16<00:06, 99.8MB/s]\r 65%|██████▌   | 1.17G/1.79G [00:17<00:10, 60.5MB/s]\r 66%|██████▌   | 1.18G/1.79G [00:17<00:10, 57.4MB/s]\r 67%|██████▋   | 1.20G/1.79G [00:17<00:07, 75.1MB/s]\r 68%|██████▊   | 1.21G/1.79G [00:17<00:09, 60.9MB/s]\r 68%|██████▊   | 1.22G/1.79G [00:17<00:09, 60.9MB/s]\r 69%|██████▉   | 1.23G/1.79G [00:18<00:09, 60.0MB/s]\r 70%|██████▉   | 1.25G/1.79G [00:18<00:07, 73.0MB/s]\r 70%|███████   | 1.26G/1.79G [00:18<00:11, 45.2MB/s]\r 71%|███████▏  | 1.28G/1.79G [00:18<00:08, 62.3MB/s]\r 72%|███████▏  | 1.29G/1.79G [00:19<00:08, 57.2MB/s]\r 72%|███████▏  | 1.30G/1.79G [00:19<00:10, 47.7MB/s]\r 73%|███████▎  | 1.31G/1.79G [00:19<00:09, 50.8MB/s]\r 74%|███████▍  | 1.32G/1.79G [00:19<00:08, 57.8MB/s]\r 75%|███████▍  | 1.33G/1.79G [00:20<00:08, 53.6MB/s]\r 75%|███████▌  | 1.34G/1.79G [00:20<00:07, 58.2MB/s]\r 76%|███████▌  | 1.35G/1.79G [00:20<00:08, 52.2MB/s]\r 76%|███████▌  | 1.36G/1.79G [00:20<00:11, 38.1MB/s]\r 77%|███████▋  | 1.38G/1.79G [00:20<00:06, 62.6MB/s]\r 78%|███████▊  | 1.39G/1.79G [00:21<00:08, 49.2MB/s]\r 79%|███████▊  | 1.41G/1.79G [00:21<00:05, 67.2MB/s]\r 79%|███████▉  | 1.42G/1.79G [00:21<00:06, 57.7MB/s]\r 80%|███████▉  | 1.43G/1.79G [00:21<00:06, 58.5MB/s]\r 80%|████████  | 1.44G/1.79G [00:21<00:06, 52.4MB/s]\r 81%|████████  | 1.45G/1.79G [00:21<00:04, 70.8MB/s]\r 82%|████████▏ | 1.46G/1.79G [00:22<00:05, 56.0MB/s]\r 83%|████████▎ | 1.48G/1.79G [00:22<00:04, 77.2MB/s]\r 83%|████████▎ | 1.49G/1.79G [00:22<00:04, 72.2MB/s]\r 84%|████████▍ | 1.50G/1.79G [00:22<00:04, 68.3MB/s]\r 84%|████████▍ | 1.51G/1.79G [00:22<00:04, 58.0MB/s]\r 85%|████████▍ | 1.52G/1.79G [00:23<00:04, 63.5MB/s]\r 86%|████████▌ | 1.54G/1.79G [00:23<00:02, 87.9MB/s]\r 87%|████████▋ | 1.55G/1.79G [00:23<00:03, 70.0MB/s]\r 87%|████████▋ | 1.56G/1.79G [00:23<00:03, 67.2MB/s]\r 88%|████████▊ | 1.57G/1.79G [00:23<00:03, 63.1MB/s]\r 88%|████████▊ | 1.58G/1.79G [00:23<00:02, 73.1MB/s]\r 89%|████████▉ | 1.59G/1.79G [00:24<00:02, 69.2MB/s]\r 90%|████████▉ | 1.60G/1.79G [00:24<00:02, 75.5MB/s]\r 90%|█████████ | 1.61G/1.79G [00:24<00:02, 68.6MB/s]\r 91%|█████████ | 1.62G/1.79G [00:24<00:02, 68.3MB/s]\r 91%|█████████ | 1.63G/1.79G [00:24<00:02, 62.6MB/s]\r 92%|█████████▏| 1.64G/1.79G [00:24<00:01, 80.0MB/s]\r 92%|█████████▏| 1.65G/1.79G [00:24<00:02, 61.7MB/s]\r 93%|█████████▎| 1.66G/1.79G [00:25<00:01, 69.1MB/s]\r 93%|█████████▎| 1.67G/1.79G [00:25<00:03, 33.2MB/s]\r 95%|█████████▍| 1.69G/1.79G [00:25<00:01, 55.5MB/s]\r 95%|█████████▌| 1.70G/1.79G [00:25<00:01, 54.2MB/s]\r 96%|█████████▌| 1.71G/1.79G [00:26<00:01, 61.0MB/s]\r 96%|█████████▌| 1.72G/1.79G [00:26<00:01, 66.1MB/s]\r 97%|█████████▋| 1.73G/1.79G [00:26<00:00, 72.7MB/s]\r 97%|█████████▋| 1.74G/1.79G [00:26<00:00, 54.9MB/s]\r 98%|█████████▊| 1.76G/1.79G [00:26<00:00, 80.5MB/s]\r 99%|█████████▉| 1.77G/1.79G [00:27<00:00, 52.4MB/s]\r100%|██████████| 1.79G/1.79G [00:27<00:00, 65.8MB/s]\n"
     ]
    },
    {
     "output_type": "stream",
     "name": "stdout",
     "output_type": "stream",
     "text": [
      "Out[3]: True"
     ]
    }
   ],
   "source": [
    "# File details\n",
    "file_id = '144mphzh2a6qerjLvCwwO_QHDsXTdNAJ3'\n",
    "filename = 'yellow_taxi_2019.parquet'\n",
    "taxi_type = 'yellow'\n",
    "\n",
    "# URL\n",
    "url = f\"https://drive.google.com/uc?id={file_id}\"\n",
    "\n",
    "# Output path\n",
    "output_path = \"/tmp/{file_id}\"\n",
    "\n",
    "# Download the file\n",
    "gdown.download(url, output=output_path, quiet=False)\n",
    "\n",
    "# Transfer the file to DBFS\n",
    "dbutils.fs.mv(f\"file:{output_path}\", f\"dbfs:/FileStore/{taxi_type}/{filename}\")\n"
   ]
  },
  {
   "cell_type": "markdown",
   "metadata": {
    "application/vnd.databricks.v1+cell": {
     "cellMetadata": {},
     "inputWidgets": {},
     "nuid": "14d423c1-6a1d-42b2-b945-d8ce1f455ed8",
     "showTitle": false,
     "tableResultSettingsMap": {},
     "title": ""
    }
   },
   "source": [
    "##### Yellow Taxi - 2020"
   ]
  },
  {
   "cell_type": "code",
   "execution_count": 0,
   "metadata": {
    "application/vnd.databricks.v1+cell": {
     "cellMetadata": {
      "byteLimit": 2048000,
      "rowLimit": 10000
     },
     "inputWidgets": {},
     "nuid": "d932612d-0091-49a0-9b76-5515916802ce",
     "showTitle": false,
     "tableResultSettingsMap": {},
     "title": ""
    }
   },
   "outputs": [],
   "source": [
    "# File details\n",
    "file_id = '1kB5Bnx1TAXMq_revh1fyUU5RYOMdmIh4'\n",
    "filename = 'yellow_taxi_2020.parquet'\n",
    "taxi_type = 'yellow'\n",
    "\n",
    "# URL\n",
    "url = f\"https://drive.google.com/uc?id={file_id}\"\n",
    "\n",
    "# Output path\n",
    "output_path = \"/tmp/{file_id}\"\n",
    "\n",
    "# Download the file\n",
    "gdown.download(url, output=output_path, quiet=False)\n",
    "\n",
    "# Transfer the file to DBFS\n",
    "dbutils.fs.mv(f\"file:{output_path}\", f\"dbfs:/FileStore/{taxi_type}/{filename}\")\n"
   ]
  },
  {
   "cell_type": "markdown",
   "metadata": {
    "application/vnd.databricks.v1+cell": {
     "cellMetadata": {},
     "inputWidgets": {},
     "nuid": "410bc10b-3c59-433f-bb3c-295d726e0c6d",
     "showTitle": false,
     "tableResultSettingsMap": {},
     "title": ""
    }
   },
   "source": [
    "##### Yellow Taxi - 2021"
   ]
  },
  {
   "cell_type": "code",
   "execution_count": 0,
   "metadata": {
    "application/vnd.databricks.v1+cell": {
     "cellMetadata": {
      "byteLimit": 2048000,
      "rowLimit": 10000
     },
     "inputWidgets": {},
     "nuid": "81f78aca-099a-4863-96b4-aa942eb8beb4",
     "showTitle": false,
     "tableResultSettingsMap": {},
     "title": ""
    }
   },
   "outputs": [],
   "source": [
    "# File details\n",
    "file_id = '1eTs-ID9A3ZgYy0BotrEKwh9ThRAt8dfu'\n",
    "filename = 'yellow_taxi_2021.parquet'\n",
    "taxi_type = 'yellow'\n",
    "\n",
    "# URL\n",
    "url = f\"https://drive.google.com/uc?id={file_id}\"\n",
    "\n",
    "# Output path\n",
    "output_path = \"/tmp/{file_id}\"\n",
    "\n",
    "# Download the file\n",
    "gdown.download(url, output=output_path, quiet=False)\n",
    "\n",
    "# Transfer the file to DBFS\n",
    "dbutils.fs.mv(f\"file:{output_path}\", f\"dbfs:/FileStore/{taxi_type}/{filename}\")\n"
   ]
  },
  {
   "cell_type": "markdown",
   "metadata": {
    "application/vnd.databricks.v1+cell": {
     "cellMetadata": {},
     "inputWidgets": {},
     "nuid": "7f1a82a5-0529-4c6a-93bb-d27ec03b6d96",
     "showTitle": false,
     "tableResultSettingsMap": {},
     "title": ""
    }
   },
   "source": [
    "##### Yellow Taxi - 2022"
   ]
  },
  {
   "cell_type": "code",
   "execution_count": 0,
   "metadata": {
    "application/vnd.databricks.v1+cell": {
     "cellMetadata": {
      "byteLimit": 2048000,
      "rowLimit": 10000
     },
     "inputWidgets": {},
     "nuid": "211a484f-08c6-4892-8137-ca0b3ebfa6fc",
     "showTitle": false,
     "tableResultSettingsMap": {},
     "title": ""
    }
   },
   "outputs": [],
   "source": [
    "# File details\n",
    "file_id = '1QdBDxHQzffBZ26T3j6Uhk1eJ8EmF0bCN'\n",
    "filename = 'yellow_taxi_2022.parquet'\n",
    "taxi_type = 'yellow'\n",
    "\n",
    "# URL\n",
    "url = f\"https://drive.google.com/uc?id={file_id}\"\n",
    "\n",
    "# Output path\n",
    "output_path = \"/tmp/{file_id}\"\n",
    "\n",
    "# Download the file\n",
    "gdown.download(url, output=output_path, quiet=False)\n",
    "\n",
    "# Transfer the file to DBFS\n",
    "dbutils.fs.mv(f\"file:{output_path}\", f\"dbfs:/FileStore/{taxi_type}/{filename}\")\n"
   ]
  },
  {
   "cell_type": "code",
   "execution_count": 0,
   "metadata": {
    "application/vnd.databricks.v1+cell": {
     "cellMetadata": {
      "byteLimit": 2048000,
      "rowLimit": 10000
     },
     "inputWidgets": {},
     "nuid": "3ae0dfc2-6dc4-4093-9ba9-ecedc645c81a",
     "showTitle": false,
     "tableResultSettingsMap": {},
     "title": ""
    }
   },
   "outputs": [],
   "source": [
    "df_yellow = spark.read.parquet(f\"/FileStore/{taxi_type}\")\n",
    "df_yellow.show()"
   ]
  }
 ],
 "metadata": {
  "application/vnd.databricks.v1+notebook": {
   "computePreferences": null,
   "dashboards": [],
   "environmentMetadata": null,
   "language": "python",
   "notebookMetadata": {
    "mostRecentlyExecutedCommandWithImplicitDF": {
     "commandId": 4183483410527920,
     "dataframes": [
      "_sqldf"
     ]
    },
    "pythonIndentUnit": 4
   },
   "notebookName": "Download Taxi Dataset from Google Drive NEW VERSION",
   "widgets": {}
  }
 },
 "nbformat": 4,
 "nbformat_minor": 0
}
