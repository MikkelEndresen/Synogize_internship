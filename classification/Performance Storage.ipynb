{
 "cells": [
  {
   "cell_type": "markdown",
   "id": "a3d8a826-5378-45d6-ab75-47a601bf6292",
   "metadata": {
    "collapsed": false,
    "name": "cell1",
    "resultHeight": 135
   },
   "source": [
    "# Code used to store Model Performances\n",
    "\n",
    "## Setting up schema and databases"
   ]
  },
  {
   "cell_type": "code",
   "execution_count": null,
   "id": "0f5da366-dfcb-4cfc-a2ef-9fd812293dc7",
   "metadata": {
    "language": "sql",
    "name": "cell2",
    "resultHeight": 111
   },
   "outputs": [],
   "source": [
    "create schema if not exists model_results_schema;\n",
    "\n",
    "create table if not exists model_results_schema.confusion_matrix(\n",
    "    id int autoincrement primary key,\n",
    "    true_positive int,\n",
    "    true_negative int, \n",
    "    false_positive int, \n",
    "    false_negative int,\n",
    "    create_at timestamp default current_timestamp\n",
    ");\n",
    "\n",
    "create table if not exists model_results_schema.model_performance (\n",
    "    model_name string,\n",
    "    accuracy float,\n",
    "    recall float,\n",
    "    confusion_matrix_id int,\n",
    "    training_time float,\n",
    "    prediction_time float,\n",
    "    parameters string,\n",
    "    coefficients string, \n",
    "    intercept float,\n",
    "    notes string, \n",
    "    create_at timestamp default current_timestamp\n",
    ");"
   ]
  },
  {
   "cell_type": "markdown",
   "id": "0f554818-a214-4783-bbc2-18507317db26",
   "metadata": {
    "collapsed": false,
    "name": "cell3",
    "resultHeight": 46
   },
   "source": [
    "### Check results"
   ]
  },
  {
   "cell_type": "code",
   "execution_count": null,
   "id": "2509e4fc-b46d-4701-8c84-2e6fa5797350",
   "metadata": {
    "codeCollapsed": false,
    "language": "sql",
    "name": "cell4",
    "resultHeight": 438
   },
   "outputs": [],
   "source": [
    "select * from model_results_schema.model_performance;\n",
    "--select * from model_results_schema.confusion_matrix"
   ]
  },
  {
   "cell_type": "markdown",
   "id": "f1e4c367-3cb4-413b-8f89-1aba12527fdf",
   "metadata": {
    "collapsed": false,
    "name": "cell5",
    "resultHeight": 102
   },
   "source": [
    "## Python method to store results\n",
    "\n",
    "Used by copying over into model notebooks. "
   ]
  },
  {
   "cell_type": "code",
   "execution_count": null,
   "id": "3b3539a5-f727-409e-9ad9-05fbd4fc87c0",
   "metadata": {
    "codeCollapsed": false,
    "language": "python",
    "name": "cell6",
    "resultHeight": 0
   },
   "outputs": [],
   "source": [
    "import json\n",
    "\n",
    "def record_performance(true_positive, true_negative, false_positive, false_negative, model_name, accuracy, recall, training_time, prediction_time, \n",
    "         parameters, coefficients, intercept, notes):\n",
    "    ## NB: Make sure the name makes the model easily identifiable. \n",
    "\n",
    "    confusion_matrix_insert_sql = f\"\"\"\n",
    "        insert into model_results_schema.confusion_matrix\n",
    "        (true_positive, true_negative, false_positive, false_negative)\n",
    "        values\n",
    "        ({true_positive}, {true_negative}, {false_positive}, {false_negative});\n",
    "    \"\"\"\n",
    "    \n",
    "    session.sql(confusion_matrix_insert_sql).collect()\n",
    "\n",
    "    last_id_sql = \"\"\"\n",
    "        select id\n",
    "        from model_results_schema.confusion_matrix\n",
    "        order by create_at desc\n",
    "        limit 1;\n",
    "    \"\"\" \n",
    "    confusion_matrix_id = session.sql(last_id_sql).collect()\n",
    "    confusion_matrix_id = confusion_matrix_id[0]['ID']\n",
    "\n",
    "    # These two need to be on a string format. \n",
    "    coefficients = ', '.join(map(str, coefficients))\n",
    "    parameters = json.dumps(parameters)\n",
    "    \n",
    "    # Insert data into the model_performance table\n",
    "    session.sql(f\"\"\"\n",
    "        insert into model_results_schema.model_performance\n",
    "            (model_name, accuracy, recall, confusion_matrix_id,\n",
    "            training_time, prediction_time, parameters, coefficients,\n",
    "            intercept, notes)\n",
    "        values\n",
    "            ('{model_name}', {accuracy}, {recall}, {confusion_matrix_id}, {training_time}, {prediction_time}, \n",
    "            '{parameters}', '{coefficients}', {intercept}, '{notes}');\n",
    "    \"\"\").collect()\n",
    "    \n",
    "    return \"success\"\n"
   ]
  },
  {
   "cell_type": "markdown",
   "id": "83f56d26-8387-4841-b437-81511c9b3ec8",
   "metadata": {
    "collapsed": false,
    "name": "cell8",
    "resultHeight": 143
   },
   "source": [
    "## Download Results\n",
    "\n",
    "To download the results as a .csv file follwo the instructions below.\n",
    "\n",
    "First set up a stage and copy the relevant table into the stage. "
   ]
  },
  {
   "cell_type": "code",
   "execution_count": null,
   "id": "f3a3fb24-4b2d-4de7-9bee-e65cf48f48b4",
   "metadata": {
    "language": "sql",
    "name": "cell10",
    "resultHeight": 111
   },
   "outputs": [],
   "source": [
    "use schema model_results_schema;\n",
    "\n",
    "CREATE OR REPLACE STAGE model_results;\n",
    "\n",
    "COPY INTO @model_results/performance_3.csv\n",
    "FROM model_performance\n",
    "FILE_FORMAT = (TYPE = 'CSV', FIELD_OPTIONALLY_ENCLOSED_BY='\"', COMPRESSION = NONE)\n",
    "OVERWRITE = TRUE\n",
    ";\n",
    "\n",
    "COPY INTO @model_results/confusion_matrix_3.csv\n",
    "FROM confusion_matrix\n",
    "FILE_FORMAT = (TYPE = 'CSV', FIELD_OPTIONALLY_ENCLOSED_BY='\"', COMPRESSION = NONE)\n",
    "OVERWRITE = TRUE\n",
    ";"
   ]
  },
  {
   "cell_type": "markdown",
   "id": "a6f9d432-49b6-4190-b52d-35658412ef99",
   "metadata": {
    "collapsed": false,
    "name": "cell9",
    "resultHeight": 41
   },
   "source": [
    "On your local machine run the following code and you should have a .csv file added to your directory."
   ]
  },
  {
   "cell_type": "code",
   "execution_count": null,
   "id": "62a08dac-2c28-47c3-93d4-419de9c57919",
   "metadata": {
    "language": "python",
    "name": "cell7"
   },
   "outputs": [],
   "source": [
    "    from snowflake.snowpark import Session\n",
    "    \n",
    "    \n",
    "    session = Session.builder.configs({\n",
    "        'user': ,\n",
    "        'password': ,\n",
    "        'account': ,\n",
    "        'database': 'ml',\n",
    "        'schema': 'model_results_schema'\n",
    "    }).create()\n",
    "    \n",
    "    \n",
    "    local_path = ''\n",
    "    stage_path = '@model_results/performance_3.csv'\n",
    "    \n",
    "    session.file.get(stage_path, local_path)\n",
    "    \n",
    "    \n",
    "    print(\"File downloaded to:\", local_path)\n",
    "    \n",
    "    session.close()\n"
   ]
  }
 ],
 "metadata": {
  "kernelspec": {
   "display_name": "Streamlit Notebook",
   "name": "streamlit"
  }
 },
 "nbformat": 4,
 "nbformat_minor": 5
}
