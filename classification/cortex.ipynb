{
 "metadata": {
  "kernelspec": {
   "display_name": "Streamlit Notebook",
   "name": "streamlit"
  }
 },
 "nbformat_minor": 5,
 "nbformat": 4,
 "cells": [
  {
   "cell_type": "markdown",
   "id": "39febb58-e0bc-427f-90ed-ce67d14d029d",
   "metadata": {
    "name": "cell1",
    "collapsed": false,
    "resultHeight": 147
   },
   "source": "# Using the cortex ML inbuilt binary classificaton function\n\n- Gradient boosting machine\n- binary: AUC loss functino\n"
  },
  {
   "cell_type": "markdown",
   "id": "ce547229-50af-44d3-b5cb-93d7733db9ff",
   "metadata": {
    "name": "cell3",
    "collapsed": false,
    "resultHeight": 155
   },
   "source": "#### Preparing training data\n\nDoing a 80/20 split on the training_data table to have two seperate datasets for training and testing. \nDoing this not randomly, but by taking the first 80% rows for training and the last 20% for test. \n\n\nThen selecting the appropriate columns. "
  },
  {
   "cell_type": "code",
   "id": "cf96f630-e133-46f8-a666-0e79297c03e7",
   "metadata": {
    "language": "sql",
    "name": "cell2",
    "resultHeight": 146
   },
   "outputs": [],
   "source": "create or replace view temp_table as\nselect *, ROW_NUMBER() OVER (ORDER BY RANDOM()) AS row_num\nfrom model_data;\n\n-- Create the 80% sample view\ncreate or replace view sample_80 as\nselect chain_cat_1, chain_cat_2, chain_cat_3, offer_value_1, offer_value_2, offer_value_3, offer_value_4, offer_value_5, offer_value_6, previous_purchase_category_int, previous_purchase_int, repeater_int\nfrom temp_table\nwhere row_num <= (SELECT COUNT(*) * 0.8 FROM temp_table);\n\nselect * from sample_80 limit 2;\n\n-- Create the 20% sample view\ncreate or replace view sample_20 as\nselect chain_cat_1, chain_cat_2, chain_cat_3, offer_value_1, offer_value_2, offer_value_3, offer_value_4, offer_value_5, offer_value_6, previous_purchase_category_int, previous_purchase_int, repeater_int\nfrom temp_table\nwhere row_num >= (SELECT COUNT(*) * 0.8 FROM temp_table);\n\nselect * from sample_20 limit 2;",
   "execution_count": null
  },
  {
   "cell_type": "code",
   "id": "8cad97e7-a189-4ee0-bb26-37ae71539df3",
   "metadata": {
    "language": "sql",
    "name": "cell16",
    "resultHeight": 111,
    "codeCollapsed": false
   },
   "outputs": [],
   "source": "select count(*) from sample_20;",
   "execution_count": null
  },
  {
   "cell_type": "markdown",
   "id": "631e4a3f-2b4f-4027-b343-375b17842a24",
   "metadata": {
    "name": "cell4",
    "collapsed": false,
    "resultHeight": 41
   },
   "source": "Checking the count of sample 80 and 20. "
  },
  {
   "cell_type": "code",
   "id": "5ad50a97-7feb-49ba-94d3-46ff1cec495a",
   "metadata": {
    "language": "sql",
    "name": "cell5",
    "resultHeight": 111,
    "codeCollapsed": false
   },
   "outputs": [],
   "source": "select count(*) from sample_80;",
   "execution_count": null
  },
  {
   "cell_type": "code",
   "id": "66f43c2b-dfc8-443c-8a30-a00eb819aa18",
   "metadata": {
    "language": "sql",
    "name": "cell6",
    "resultHeight": 111,
    "codeCollapsed": false
   },
   "outputs": [],
   "source": "select count(*) from sample_20;",
   "execution_count": null
  },
  {
   "cell_type": "markdown",
   "id": "8a7e5705-1897-4e24-b75e-7084e0be8a74",
   "metadata": {
    "name": "cell7",
    "collapsed": false,
    "resultHeight": 88
   },
   "source": "### Creating model\n\nCreating and training the model on sample_20 with the label=repeater_int"
  },
  {
   "cell_type": "code",
   "id": "a3395b32-440a-42c4-a2f3-a71b1ba937a1",
   "metadata": {
    "language": "sql",
    "name": "cell8",
    "resultHeight": 111,
    "codeCollapsed": false
   },
   "outputs": [],
   "source": "create or replace snowflake.ml.classification model_binary(\n    input_data => system$reference('view', 'sample_80'),\n    target_colname => 'repeater_int'\n);",
   "execution_count": null
  },
  {
   "cell_type": "markdown",
   "id": "ef30ff92-3300-41fd-a303-cbf8ce7519ae",
   "metadata": {
    "name": "cell9",
    "collapsed": false,
    "resultHeight": 113
   },
   "source": "### Predictions and metrics\n\nUsing the PREDICT function to make predictions on the test set and display the results with its corresponding input features. "
  },
  {
   "cell_type": "code",
   "id": "4a2ff000-5726-4ed6-aa67-396b105d2dc3",
   "metadata": {
    "language": "sql",
    "name": "cell10",
    "resultHeight": 111,
    "codeCollapsed": false
   },
   "outputs": [],
   "source": "create table my_predictions as\n    select *, model_binary!PREDICT(\n    INPUT_DATA => {*})\n    as predictions from sample_20;",
   "execution_count": null
  },
  {
   "cell_type": "code",
   "id": "9d8bf641-668f-4f4e-bf4a-c33d89078b13",
   "metadata": {
    "language": "sql",
    "name": "cell22",
    "resultHeight": 510
   },
   "outputs": [],
   "source": "select * from my_predictions;",
   "execution_count": null
  },
  {
   "cell_type": "markdown",
   "id": "86295e57-c217-4a92-9b5e-b88aa1cfe36f",
   "metadata": {
    "name": "cell11",
    "collapsed": false,
    "resultHeight": 41
   },
   "source": "Various evaluation metrics. Copied into markdown as well such that it is saved. "
  },
  {
   "cell_type": "code",
   "id": "2b50f7e3-5353-4e36-8105-d11569e05f95",
   "metadata": {
    "language": "sql",
    "name": "cell12",
    "resultHeight": 356,
    "codeCollapsed": false
   },
   "outputs": [],
   "source": "CALL model_binary!SHOW_EVALUATION_METRICS();",
   "execution_count": null
  },
  {
   "cell_type": "code",
   "id": "725add9d-8ae7-4e60-9219-bf7489203b5a",
   "metadata": {
    "language": "sql",
    "name": "cell13",
    "resultHeight": 391,
    "codeCollapsed": false
   },
   "outputs": [],
   "source": "CALL model_binary!SHOW_GLOBAL_EVALUATION_METRICS();",
   "execution_count": null
  },
  {
   "cell_type": "code",
   "id": "a831b567-4e7d-47ab-805a-52d31cb9f477",
   "metadata": {
    "language": "sql",
    "name": "cell14",
    "resultHeight": 438,
    "codeCollapsed": false
   },
   "outputs": [],
   "source": "CALL model_binary!SHOW_THRESHOLD_METRICS();",
   "execution_count": null
  },
  {
   "cell_type": "code",
   "id": "3259493a-f7bc-4370-a3a4-276170b4861d",
   "metadata": {
    "language": "sql",
    "name": "cell15",
    "resultHeight": 216,
    "codeCollapsed": false
   },
   "outputs": [],
   "source": "CALL model_binary!SHOW_CONFUSION_MATRIX();",
   "execution_count": null
  },
  {
   "cell_type": "code",
   "id": "7e12b944-66ad-4b00-a851-64c1c9b9ceb4",
   "metadata": {
    "language": "sql",
    "name": "cell20",
    "resultHeight": 438,
    "codeCollapsed": false
   },
   "outputs": [],
   "source": "CALL model_binary!SHOW_FEATURE_IMPORTANCE();",
   "execution_count": null
  },
  {
   "cell_type": "markdown",
   "id": "8ea17a2a-1d0b-48b6-98c0-45c10a5e7bd1",
   "metadata": {
    "name": "cell17",
    "collapsed": false,
    "resultHeight": 60
   },
   "source": "## Recording results\n"
  },
  {
   "cell_type": "code",
   "id": "11b289bd-73ab-4370-9880-01217490da40",
   "metadata": {
    "language": "python",
    "name": "cell18",
    "collapsed": false,
    "codeCollapsed": false,
    "resultHeight": 0
   },
   "outputs": [],
   "source": "import json\n\ndef record_performance(true_positive, true_negative, false_positive, false_negative, model_name, accuracy, recall, training_time, prediction_time, \n         parameters, coefficients, intercept, notes):\n\n    confusion_matrix_insert_sql = f\"\"\"\n        insert into model_results_schema.confusion_matrix\n        (true_positive, true_negative, false_positive, false_negative)\n        values\n        ({true_positive}, {true_negative}, {false_positive}, {false_negative});\n    \"\"\"\n    \n    session.sql(confusion_matrix_insert_sql).collect()\n\n    last_id_sql = \"\"\"\n        select id\n        from model_results_schema.confusion_matrix\n        order by create_at desc\n        limit 1;\n    \"\"\" \n\n    #SELECT LAST_VALUE(id) OVER (ORDER BY id RANGE BETWEEN UNBOUNDED PRECEDING AND UNBOUNDED FOLLOWING) AS last_id\n    confusion_matrix_id = session.sql(last_id_sql).collect()\n    confusion_matrix_id = confusion_matrix_id[0]['ID']\n\n    # These two need to be on a string format.\n    if coefficients != \"\":\n        coefficients = ', '.join(map(str, coefficients))\n    parameters = json.dumps(parameters)\n    \n    # Insert data into the model_performance table\n    session.sql(f\"\"\"\n        insert into model_results_schema.model_performance\n            (model_name, accuracy, recall, confusion_matrix_id,\n            training_time, prediction_time, parameters, coefficients,\n            intercept, notes)\n        values\n            ('{model_name}', {accuracy}, {recall}, {confusion_matrix_id}, {training_time}, {prediction_time}, '{parameters}', '{coefficients}', {intercept}, '{notes}');\n    \"\"\").collect()\n\n    \n    return \"success\"\n",
   "execution_count": null
  },
  {
   "cell_type": "code",
   "id": "1f7bd869-a3af-428f-a4f6-be8512154a7c",
   "metadata": {
    "language": "python",
    "name": "cell21",
    "resultHeight": 251,
    "codeCollapsed": false
   },
   "outputs": [],
   "source": "# as cortex seem unable to calculate the different metrics on the predicitons\n\nsession = get_active_session()\n\nsession.use_database(\"ML\")\nsession.use_schema(\"RETAIL_STORE\")\n\ndf_predictions = session.table('my_predictions') # importing data\n\ndf_predictions = df_predictions.select('PREDICTIONS', 'REPEATER_INT')\n\ndf_predictions = df_predictions.to_pandas()\n\ndf_predictions.head()",
   "execution_count": null
  },
  {
   "cell_type": "code",
   "id": "fa775f57-d9f2-446e-a6a7-4ec193e212aa",
   "metadata": {
    "language": "python",
    "name": "cell23",
    "codeCollapsed": false,
    "resultHeight": 0
   },
   "outputs": [],
   "source": "import ast\n\nfor index, row in df_predictions.iterrows():\n    d = ast.literal_eval(row['PREDICTIONS'])\n    df_predictions.at[index, 'PREDICTIONS'] = int(d['class'])\n    df_predictions.at[index, 'REPEATER_INT'] = int(row['REPEATER_INT'])",
   "execution_count": null
  },
  {
   "cell_type": "code",
   "id": "5040dd3a-b026-4c6d-bd30-efe47c8fcc9d",
   "metadata": {
    "language": "python",
    "name": "cell25",
    "codeCollapsed": false,
    "resultHeight": 60
   },
   "outputs": [],
   "source": "y_test = df_predictions['REPEATER_INT'].to_numpy()\npredictions = df_predictions['PREDICTIONS'].astype(int).to_numpy()\nprint(y_test.dtype)\nprint(predictions.dtype)",
   "execution_count": null
  },
  {
   "cell_type": "code",
   "id": "72fe5e09-f1ce-422a-8182-166f5d447538",
   "metadata": {
    "language": "python",
    "name": "cell24",
    "resultHeight": 172,
    "codeCollapsed": false
   },
   "outputs": [],
   "source": "from sklearn.metrics import accuracy_score, recall_score, f1_score, precision_score, confusion_matrix\n\naccuracy = accuracy_score(y_test, predictions)\nprint(f'Accuracy: {accuracy:.4f}')\n\nrecall = recall_score(y_test, predictions)\nprint(f'Recall: {recall:.4f}')\n\nprecision = precision_score(y_test, predictions)\nprint(f'Precision: {precision:.4f}')\n\nf1_score = f1_score(y_test, predictions)\nprint(f'F1 Score: {f1_score:.4f}')\n\n\nconf_matrix = confusion_matrix(y_test, predictions)\nprint('Confusion Matrix:')\nprint(conf_matrix)\n\n# For storing in db\ntrue_positive = conf_matrix[1][1]  \ntrue_negative = conf_matrix[0][0]  \nfalse_positive = conf_matrix[0][1]  \nfalse_negative = conf_matrix[1][0]",
   "execution_count": null
  },
  {
   "cell_type": "code",
   "id": "97b82717-2cf2-4100-97d6-938c3c77ec57",
   "metadata": {
    "language": "python",
    "name": "cell19",
    "codeCollapsed": false,
    "resultHeight": 54
   },
   "outputs": [],
   "source": "training_time = 21\nprediction_time = 10\n\nmodel_name = \"CORTEX\"\nparameters = \"no parameters\"\ncoefficients = [0]\nintercept = 0.0\nnotes = \"\"\n\nrecord_performance(true_positive, true_negative, false_positive, false_negative, model_name, accuracy, recall, training_time, prediction_time, parameters, coefficients, intercept, notes)\n\n\n",
   "execution_count": null
  }
 ]
}