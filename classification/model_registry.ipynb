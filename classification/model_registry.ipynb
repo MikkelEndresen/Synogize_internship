{
 "metadata": {
  "kernelspec": {
   "display_name": "Streamlit Notebook",
   "name": "streamlit"
  }
 },
 "nbformat_minor": 5,
 "nbformat": 4,
 "cells": [
  {
   "cell_type": "markdown",
   "id": "7b3c058f-336d-4c60-b5af-23fe23150858",
   "metadata": {
    "name": "cell1",
    "collapsed": false,
    "resultHeight": 74
   },
   "source": "# Model Registry"
  },
  {
   "cell_type": "markdown",
   "id": "f66bc7fd-2dc5-4a0e-be14-afcfaaa75367",
   "metadata": {
    "name": "cell4",
    "collapsed": false,
    "resultHeight": 60
   },
   "source": "## Dependencies"
  },
  {
   "cell_type": "code",
   "id": "387a64fa-ab60-4b7d-8028-1893b1e62e32",
   "metadata": {
    "language": "python",
    "name": "cell6",
    "resultHeight": 0,
    "collapsed": false
   },
   "outputs": [],
   "source": "import pandas as pd\nimport numpy as np\n\nimport time\nfrom snowflake.ml.registry import Registry\nfrom snowflake.snowpark.context import get_active_session\n\nfrom sklearn.model_selection import train_test_split\nfrom sklearn.ensemble import RandomForestClassifier\nfrom sklearn.metrics import accuracy_score, recall_score, confusion_matrix",
   "execution_count": null
  },
  {
   "cell_type": "markdown",
   "id": "6bcfd36d-2380-462a-8758-1271b56afa28",
   "metadata": {
    "name": "cell9",
    "collapsed": false,
    "resultHeight": 60
   },
   "source": "## Data and Model setup"
  },
  {
   "cell_type": "code",
   "id": "49caca69-d701-42f7-adb1-9dab8e7f32b0",
   "metadata": {
    "language": "python",
    "name": "cell10",
    "codeCollapsed": false,
    "resultHeight": 38
   },
   "outputs": [],
   "source": "session = get_active_session()\n\nsession.use_database(\"ML\")\nsession.use_schema(\"RETAIL_STORE\")\n\ndf_model_data = session.table('model_data') # importing data\n\ndf_model_data = df_model_data.drop(\"CUSTOMER_ID\", \"OFFER_PRODUCT_ID\") # dropping id columns\nX = df_model_data.drop(\"REPEATER_INT\")\ny = df_model_data.select(\"REPEATER_INT\")\n\n\nFEATURE_COLS = X.columns[:len(X.columns)]\nLABEL_COLS = [\"REPEATER_INT\"]\n\nprint(f\"Feature Columns: {FEATURE_COLS}\")\n\nX = X.to_pandas()\ny = y.to_pandas()\n\ny = y.values.ravel()\n\n# 80/20 train/test\nX_train, X_test, y_train, y_test = train_test_split(X, y, test_size=0.2, random_state=42)",
   "execution_count": null
  },
  {
   "cell_type": "code",
   "id": "0d25e8a6-4e40-4c83-abe3-8a0d0b4e59f7",
   "metadata": {
    "language": "python",
    "name": "cell19",
    "codeCollapsed": false,
    "resultHeight": 0
   },
   "outputs": [],
   "source": "params_accuracy = {'n_estimators': 100, 'min_samples_split': 2, 'min_samples_leaf': 2, 'max_features': 'sqrt', 'max_depth': 20} \n\nmodel = RandomForestClassifier(**params_accuracy)\nmodel.fit(X_train, y_train)\npredictions = model.predict(X_test)",
   "execution_count": null
  },
  {
   "cell_type": "code",
   "id": "346fb3c1-8043-47a3-b13b-d55d874b27d1",
   "metadata": {
    "language": "python",
    "name": "cell3",
    "resultHeight": 60
   },
   "outputs": [],
   "source": "accuracy = accuracy_score(y_test, predictions)\nprint(f'Accuracy: {accuracy:.4f}')\n\nrecall = recall_score(y_test, predictions)\nprint(f'Recall: {recall:.4f}')",
   "execution_count": null
  },
  {
   "cell_type": "markdown",
   "id": "91fc5f36-ef17-4b71-8246-945abca97a77",
   "metadata": {
    "name": "cell5",
    "collapsed": false,
    "resultHeight": 102
   },
   "source": "## Registry\n\nStoring a model by initialising a registry in the correct database and schema. "
  },
  {
   "cell_type": "code",
   "id": "3e633a66-4a26-4953-b221-790043579e55",
   "metadata": {
    "language": "python",
    "name": "cell2",
    "collapsed": false,
    "codeCollapsed": false,
    "resultHeight": 0
   },
   "outputs": [],
   "source": "sp_session = get_active_session()\n\nreg = Registry(session=sp_session, database_name=\"ML\", schema_name=\"RETAIL_STORE\")",
   "execution_count": null
  },
  {
   "cell_type": "code",
   "id": "8b701015-2b25-42e2-a55a-757e8fa4d12f",
   "metadata": {
    "language": "python",
    "name": "cell7",
    "resultHeight": 513
   },
   "outputs": [],
   "source": "# Loggoing the model\nmv = reg.log_model(model,\n                   model_name=\"RandomForestClassifier\",\n                   version_name=\"v5\",\n                   conda_dependencies=[\"scikit-learn\"],\n                   comment=\"RandomForestClassifier-balanced\",\n                   #metrics={\"accuracy\": accuracy, \"recall\": recall, \"true_positive\": true_positive, \"true_negative\": true_negative, \"false_positive\": false_positive, \"false_negative\": false_negative},\n                   sample_input_data=X_train.head(5))",
   "execution_count": null
  },
  {
   "cell_type": "markdown",
   "id": "b8c43c33-1d5e-4dc5-8c18-a43323dd2ebe",
   "metadata": {
    "name": "cell20",
    "collapsed": false,
    "resultHeight": 41
   },
   "source": "It takes 55s long to log/store the model"
  },
  {
   "cell_type": "code",
   "id": "10efefc4-5bc4-45e1-8129-929fa5758d12",
   "metadata": {
    "language": "python",
    "name": "cell8",
    "codeCollapsed": false,
    "resultHeight": 146
   },
   "outputs": [],
   "source": "m = reg.get_model(\"RandomForestClassifier\")\nm.show_versions()",
   "execution_count": null
  },
  {
   "cell_type": "code",
   "id": "0f1203fe-50f1-4d2c-add1-e65a3125229d",
   "metadata": {
    "language": "python",
    "name": "cell11",
    "codeCollapsed": false,
    "resultHeight": 38
   },
   "outputs": [],
   "source": "m.version(\"v5\")\nv5 = m.version(\"v5\")\nprint(v5.comment)",
   "execution_count": null
  },
  {
   "cell_type": "code",
   "id": "05a43339-f41a-4bc2-80f8-a3c7a623c368",
   "metadata": {
    "language": "python",
    "name": "cell12",
    "codeCollapsed": false,
    "resultHeight": 0
   },
   "outputs": [],
   "source": "v5.set_metric(\"accuracy\", accuracy)\nv5.set_metric(\"recall\", recall)",
   "execution_count": null
  },
  {
   "cell_type": "code",
   "id": "ac69e321-8672-4898-b918-a8d7d6b6ce0b",
   "metadata": {
    "language": "python",
    "name": "cell13",
    "codeCollapsed": false,
    "resultHeight": 133
   },
   "outputs": [],
   "source": "v5.show_metrics()",
   "execution_count": null
  },
  {
   "cell_type": "markdown",
   "id": "8da59f21-5acf-4fa5-9332-af08e457db3f",
   "metadata": {
    "name": "cell15",
    "collapsed": false,
    "resultHeight": 60
   },
   "source": "## Inference on stored models"
  },
  {
   "cell_type": "code",
   "id": "2134c41b-bced-4514-ba19-a23b9377589d",
   "metadata": {
    "language": "python",
    "name": "cell16",
    "collapsed": false,
    "codeCollapsed": false,
    "resultHeight": 83
   },
   "outputs": [],
   "source": "sp_session = get_active_session()\n\nreg = Registry(session=sp_session, database_name=\"ML\", schema_name=\"RETAIL_STORE\")\n# predict\nstart_time  = time.time()\n\nm = reg.get_model(\"RandomForestClassifier\")\nmodel = m.version(\"v4\")\n\nend_time = time.time()\nload_time = end_time - start_time\nprint(f\"Load time: {load_time}\")\n\nstart_time = time.time()\n\npredictions = model.run(X_test, function_name=\"predict\")\n\nend_time = time.time()\nprediction_time = end_time - start_time\ntotal_time = prediction_time + load_time\nprint(f\"Prediction time: {prediction_time}\")\nprint(f\"Total time {total_time}\")",
   "execution_count": null
  },
  {
   "cell_type": "code",
   "id": "80b83cae-86e2-4f70-a311-a6b7934645fa",
   "metadata": {
    "language": "python",
    "name": "cell17",
    "codeCollapsed": false,
    "resultHeight": 251
   },
   "outputs": [],
   "source": "sp_session = get_active_session()\n\nreg = Registry(session=sp_session, database_name=\"ML\", schema_name=\"RETAIL_STORE\")\n# predict\n\nstart_time = time.time()\n\nm = reg.get_model(\"RandomForestClassifier\")\nmv = m.version(\"v4\") \n\nclf = mv.load(force=True) # Requires exact same model, force = true\n\nend_time = time.time()\nload_time = end_time - start_time\nprint(f\"Load time: {load_time}\")\n\nstart_time = time.time()\n\npredictions = clf.predict(X_test)\n\nend_time = time.time()\nprediction_time = end_time - start_time\nprint(f\"Prediction time {prediction_time}\")\nprint(f\"Total time {total_time}\")",
   "execution_count": null
  },
  {
   "cell_type": "code",
   "id": "ac5a24ab-869d-4037-a295-ef78d51a52ac",
   "metadata": {
    "language": "python",
    "name": "cell14",
    "codeCollapsed": false,
    "resultHeight": 0
   },
   "outputs": [],
   "source": "",
   "execution_count": null
  }
 ]
}