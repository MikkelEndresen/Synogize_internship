{
 "metadata": {
  "kernelspec": {
   "display_name": "Streamlit Notebook",
   "name": "streamlit"
  }
 },
 "nbformat_minor": 5,
 "nbformat": 4,
 "cells": [
  {
   "cell_type": "markdown",
   "id": "f499c3e3-54e5-47d1-8647-9a9c41084902",
   "metadata": {
    "name": "cell1",
    "collapsed": false,
    "resultHeight": 176
   },
   "source": "# Data Preparation on the retail_store database\n\n## First time setup\n\nSetting up warehouses and creating and granting access to the retail_analyst role. \nOnly need to run once:)"
  },
  {
   "cell_type": "code",
   "id": "247011d8-3d2e-40e1-a524-ff3f60725a32",
   "metadata": {
    "language": "sql",
    "name": "cell2",
    "resultHeight": 0
   },
   "outputs": [],
   "source": "use role accountadmin;\n\n-- setup warehouse\ncreate or replace warehouse retail_store_wh with warehouse_size='XSmall';\nuse warehouse retail_store_wh;\n\n-- select database\nuse database ml;\n\n-- set up retail role\ncreate or replace role retail_analyst;\ngrant usage on database ml to role retail_analyst;\ngrant usage on schema ml.retail_store to role retail_analyst;\ngrant usage on warehouse retail_store_wh to role retail_analyst;\ngrant create table on schema ml.retail_store to role retail_analyst;\ngrant create view on schema ml.retail_store to role retail_analyst;\n\ngrant role retail_analyst to user mikkel;",
   "execution_count": null
  },
  {
   "cell_type": "markdown",
   "id": "ad2f840c-5227-4da9-9be8-47fd8356e3af",
   "metadata": {
    "name": "cell3",
    "collapsed": false,
    "resultHeight": 115
   },
   "source": "# Before use\n\nMake sure to run the cell below before use to select the correct database and schema.\n"
  },
  {
   "cell_type": "code",
   "id": "c2f79944-789f-466b-a2ee-d4872b00657f",
   "metadata": {
    "language": "sql",
    "name": "cell4",
    "resultHeight": 0
   },
   "outputs": [],
   "source": "use database ml;\nuse schema ml.retail_store;",
   "execution_count": null
  },
  {
   "cell_type": "markdown",
   "id": "5f6c0056-6363-426e-9497-7ade844b63fc",
   "metadata": {
    "name": "cell5",
    "collapsed": false,
    "resultHeight": 141
   },
   "source": "# Organising the data into new tables\n\nDepending on what features I want to create I have orgnaised the data into tables that are easier to handle, for example, by giving products and transactions an id, and collecting transactions into checkouts. Read more below.\n\n"
  },
  {
   "cell_type": "markdown",
   "id": "62c41faf-0c3d-415f-b8ba-c8c609ed45ff",
   "metadata": {
    "name": "cell6",
    "collapsed": false,
    "resultHeight": 299
   },
   "source": "### Products\nA table of products identified by a product id.\n\nSchema:\n- Product_id\n- Product_category *\n- Porduct_brand *\n- Product_company_id *\n\n\nCreated from the transactions table using brand, company_id and category.\n\n"
  },
  {
   "cell_type": "code",
   "id": "e8a59721-6f41-4cbe-82f9-1bc6e974b6ac",
   "metadata": {
    "language": "sql",
    "name": "cell7",
    "resultHeight": 0
   },
   "outputs": [],
   "source": "create or replace table products as\n    select \n        ROW_NUMBER() OVER(order by product_category, product_brand) as product_id,\n        product_category,\n        company_id,\n        product_brand\n    from transactions\n        group by product_category, product_brand, company_id;\n",
   "execution_count": null
  },
  {
   "cell_type": "markdown",
   "id": "0025c555-af9a-4016-b357-055568c50d3a",
   "metadata": {
    "name": "cell8",
    "collapsed": false,
    "resultHeight": 244
   },
   "source": "### Checkouts\n\nThe collection of all transactions by a customer on the same day at the same store (store_chain_id). \n\n\n- checkout_id\n- customer_id\n- chain_id\n- date\n- checkout amount"
  },
  {
   "cell_type": "code",
   "id": "8e680da1-8d5f-417d-9aef-989aeb23634d",
   "metadata": {
    "language": "sql",
    "name": "cell9",
    "resultHeight": 0
   },
   "outputs": [],
   "source": "create or replace table checkouts as\n    select\n            ROW_NUMBER() OVER(order by customer_id) as checkout_id,    \n            t.customer_id,\n            t.store_chain_id,\n            t.date,\n            sum(t.purchase_amount) as checkout_amount\n    from    transactions t\n    group by t.date, t.store_chain_id, t.customer_id;\nselect * from checkouts;\n    ",
   "execution_count": null
  },
  {
   "cell_type": "markdown",
   "id": "45018237-a1a5-4f26-a6de-368491d1b410",
   "metadata": {
    "name": "cell10",
    "collapsed": false,
    "resultHeight": 340
   },
   "source": "### transactions_main\n\nNew table for transactions where each is now identifiable by a transaction_id and holds a product_id and checkout_id for the tables created above.\n\nIncludes:  \n\n- transaction_id\n- checkout_id\n- customer_id\n- product_id\n- product_grouping (categroy of the categories for each product_id)\n- purchase_amount (price/cost)"
  },
  {
   "cell_type": "code",
   "id": "9e0004eb-1f23-4c77-90a0-acf08cce37c5",
   "metadata": {
    "language": "sql",
    "name": "cell11",
    "codeCollapsed": false,
    "resultHeight": 0
   },
   "outputs": [],
   "source": "create or replace table transactions_main as\n    select\n            ROW_NUMBER() OVER(order by t.customer_id, t.product_grouping, t.purchase_amount) as transaction_id,\n            c.checkout_id,\n            t.customer_id,\n            p.product_id,\n            t.product_grouping,\n            t.purchase_amount\n    from    transactions t\n    join    products p on\n                p.product_category = t.product_category\n                and p.product_brand = t.product_brand\n                and p.company_id = t.company_id\n    join    checkouts c on\n                c.customer_id = t.customer_id\n                and c.store_chain_id = t.store_chain_id\n                and c.date = t.date;\n\nselect * from transactions_main limit 5;",
   "execution_count": null
  },
  {
   "cell_type": "markdown",
   "id": "cf4abdfe-0959-46ee-8786-073766075bda",
   "metadata": {
    "name": "cell12",
    "collapsed": false,
    "resultHeight": 531
   },
   "source": "# Final Table\nmodel_data - the table of data that the models are to be trained and tested on.\n\n- customer_id\n- offer_product_id\n- chain_cat_1\n- chain_cat_2\n- chain_cat_3\n- previous_purchase_product_int\n- previous_purchase_dept_int\n- offer_value_1\n- offer_value_2\n- offer_value_3\n- offer_value_4\n- offer_value_5\n- offer_value_6\n- repeater_int (label column)\n"
  },
  {
   "cell_type": "markdown",
   "id": "be89191c-a3b1-4b31-b0ab-b063dba22436",
   "metadata": {
    "name": "cell13",
    "collapsed": false,
    "resultHeight": 324
   },
   "source": "### Step 1: Joining the desired features from history, offers, and products into one table called: training_history table\n\nhistory_main table:\n- customer_id (for joining later)\n- chain\n- offer_product\n    - Found in products table based on category, company, and brand\n- offer_value\n- offer_quantity\n- repeater\n"
  },
  {
   "cell_type": "code",
   "id": "b4d157cd-1c38-4e9a-a8cf-ee4fb528f4a3",
   "metadata": {
    "language": "sql",
    "name": "cell15",
    "collapsed": false,
    "resultHeight": 0
   },
   "outputs": [],
   "source": "create or replace table history_main as \n    select\n        h.customer_id, \n        h.store_chain_id,\n        p.product_id as offer_product_id,\n        o.offer_value,\n        o.required_quantity as offer_quantity, \n        h.repeater\n    from history h\n    join offers o on h.offer_id = o.offer_id\n    join products p on\n        p.product_brand = o.brand_id \n        and p.company_id = o.company_id\n        and p.product_category = o.product_category;",
   "execution_count": null
  },
  {
   "cell_type": "markdown",
   "id": "544bfbbe-4272-402c-b808-4ebf27d63dc5",
   "metadata": {
    "name": "cell14",
    "collapsed": false,
    "resultHeight": 347
   },
   "source": "### Step 2: produce new features\n\nUsing transactions_main to create new features.\n\n\n_Previous purchase product boolean_\n- use transactions and customer_id in training_history table to see if the person has purchased the product previously.\n\n_Previous purchase category boolean_\n- use transactions and customer_id in training_history table to see if the person has purchased a product of the same category previously\n\n\nAdd both to training_history table"
  },
  {
   "cell_type": "code",
   "id": "18d77062-9d03-4c0b-9622-c82b7f9ffeae",
   "metadata": {
    "language": "sql",
    "name": "cell16",
    "collapsed": false,
    "codeCollapsed": false,
    "resultHeight": 0
   },
   "outputs": [],
   "source": "create or replace view previous as\n    select h.customer_id, h.offer_product_id\n    from history_main h\n    join transactions_main t on t.customer_id = h.customer_id\n    where t.product_id = h.offer_product_id;\n\nalter table history_main\nadd column previous_purchase boolean;\n\nupdate history_main\n    set previous_purchase = True\n    where customer_id in (select customer_id from previous)\n    and offer_product_id in (select offer_product_id from previous);",
   "execution_count": null
  },
  {
   "cell_type": "code",
   "id": "5238c093-e611-4901-9a86-0004b37b1c9c",
   "metadata": {
    "language": "sql",
    "name": "cell17",
    "resultHeight": 0
   },
   "outputs": [],
   "source": "create or replace view previous_cat as \nselect distinct h.customer_id, h.offer_product_id\nfrom history_main h\njoin transactions_main t on h.customer_id = t.customer_id\njoin transactions_main t2 on t2.product_id = h.offer_product_id\nwhere t.product_grouping = t2.product_grouping;\n\nalter table history_main\nadd column previous_purchase_category boolean;\n\nupdate history_main\n    set previous_purchase_category = True\n    where customer_id in (select customer_id from previous_cat);\n",
   "execution_count": null
  },
  {
   "cell_type": "markdown",
   "id": "7ceac407-f7d7-4116-bbdc-d5b36f283224",
   "metadata": {
    "name": "cell18",
    "collapsed": false,
    "resultHeight": 46
   },
   "source": "### Step 3: Select relevant columns into model_data table"
  },
  {
   "cell_type": "code",
   "id": "db0b02a2-9439-4536-9b53-7c6a63367ce8",
   "metadata": {
    "language": "sql",
    "name": "cell19",
    "collapsed": false,
    "resultHeight": 0
   },
   "outputs": [],
   "source": "create or replace table model_data as\n    select customer_id, offer_product_id, store_chain_id, offer_value, offer_quantity, previous_purchase, previous_purchase_category, repeater\n    from history_main;\n\nselect * from model_data limit 5;",
   "execution_count": null
  },
  {
   "cell_type": "markdown",
   "id": "cfc9c8e4-6158-490b-b613-4201ccaa7fb3",
   "metadata": {
    "name": "cell20",
    "collapsed": false,
    "resultHeight": 107
   },
   "source": "## Data Preprocessing on the training_table\n\n### Checking for null values"
  },
  {
   "cell_type": "code",
   "id": "840150cb-6827-4a44-9862-424f1e8aea2f",
   "metadata": {
    "language": "sql",
    "name": "cell21",
    "resultHeight": 0
   },
   "outputs": [],
   "source": "select\n    count(case when store_chain_id is null then 1 end) as store_chain_id_count,\n    count(case when offer_value is null then 1 end) as offer_value_count,\n    count(case when offer_quantity is null then 1 end) as offer_quantity_count,\n    count(case when previous_purchase is null then 1 end) as previous_purchase_count,\n    count(case when previous_purchase_category is null then 1 end) as previous_purchase_category_count,\n    count(case when repeater is null then 1 end) as repeater_count\nfrom model_data;\n",
   "execution_count": null
  },
  {
   "cell_type": "markdown",
   "id": "dd0a16ce-767c-4287-b0f7-ecc80ffb1f4d",
   "metadata": {
    "name": "cell22",
    "collapsed": false,
    "resultHeight": 139
   },
   "source": "### Make store_chain_id into three categories.\nStore_chain_id makes up 160 categories which is too many for this model. Looking at a graph of the number of transactions per chain, I divide it into three categories. More than 10 million transactions, more than 2 million, and all else. "
  },
  {
   "cell_type": "code",
   "id": "14e2fe0e-8fac-445c-ba7f-0dedc04af462",
   "metadata": {
    "language": "sql",
    "name": "cell23",
    "collapsed": false,
    "resultHeight": 0
   },
   "outputs": [],
   "source": "update model_data\nset store_chain_id = (\n    select \n        case\n            when chain_count > 10000000 then 1\n            when chain_count > 2000000 then 2\n            else 3\n        end\n    from (\n        select store_chain_id, count(*) as chain_count\n        from transactions\n        group by store_chain_id\n        order by chain_count\n    ) as chain_ordered\n    where chain_ordered.store_chain_id = model_data.store_chain_id\n);",
   "execution_count": null
  },
  {
   "cell_type": "markdown",
   "id": "1e365ed7-6dbb-4091-a28c-4c3876924615",
   "metadata": {
    "name": "cell24",
    "collapsed": false,
    "resultHeight": 41
   },
   "source": "Now one hot encoding the categories. And dropping store_chain_id."
  },
  {
   "cell_type": "code",
   "id": "67c1f90a-040b-40f0-837b-9b6a88e73827",
   "metadata": {
    "language": "sql",
    "name": "cell25",
    "collapsed": false,
    "resultHeight": 0
   },
   "outputs": [],
   "source": "alter table model_data\n    add chain_cat_1 integer;\n\nalter table model_data\n    add chain_cat_2 integer;\n\nalter table model_data\n    add chain_cat_3 integer;\n\nupdate model_data\nset\n    chain_cat_1 = (\n        case when store_chain_id = 1 then 1 else 0 end\n    ),\n    chain_cat_2 = (\n        case when store_chain_id = 2 then 1 else 0 end\n    ), \n    chain_cat_3 = (\n        case when store_chain_id = 3 then 1 else 0 end\n    );\n\n\nalter table model_data\ndrop column store_chain_id;\n",
   "execution_count": null
  },
  {
   "cell_type": "markdown",
   "id": "b6cbb890-c00c-4f90-8efa-534e4888e68b",
   "metadata": {
    "name": "cell26",
    "collapsed": false,
    "resultHeight": 88
   },
   "source": "### Drop Offer Quantity\n\nTurns out offer quantity is always equal to 1, so dropping the column. "
  },
  {
   "cell_type": "code",
   "id": "6a7bd00a-e17f-412d-b5ac-25de2247574a",
   "metadata": {
    "language": "sql",
    "name": "cell35",
    "resultHeight": 0
   },
   "outputs": [],
   "source": "select * from model_data\nwhere offer_quantity != 1;",
   "execution_count": null
  },
  {
   "cell_type": "code",
   "id": "876f24e2-7e9c-4cef-ae8a-66ca7b03fa9a",
   "metadata": {
    "language": "sql",
    "name": "cell27",
    "resultHeight": 0
   },
   "outputs": [],
   "source": "alter table model_data\ndrop column offer_quantity;\n\nselect * from model_data limit 5;",
   "execution_count": null
  },
  {
   "cell_type": "markdown",
   "id": "87a7e0a6-d637-4fbf-a591-d30378d5083a",
   "metadata": {
    "name": "cell28",
    "collapsed": false,
    "resultHeight": 88
   },
   "source": "### One-hot-encooding offer value.\n\nOffer-value takes on one out of 6 values so one-hot-encoding this to fit model requirements. "
  },
  {
   "cell_type": "code",
   "id": "7f66eaf7-71c4-4a67-bab0-9c61dff54015",
   "metadata": {
    "language": "sql",
    "name": "cell29",
    "resultHeight": 0
   },
   "outputs": [],
   "source": "alter table model_data\nadd offer_value_1 integer;\n\nalter table model_data\nadd offer_value_2 integer;\n\nalter table model_data\nadd offer_value_3 integer;\n\nalter table model_data\nadd offer_value_4 integer;\n\nalter table model_data\nadd offer_value_5 integer;\n\nalter table model_data\nadd offer_value_6 integer;\n\nupdate model_data\nset offer_value_1 = case when offer_value = 1.25 then 1 else 0 end;\n\nupdate model_data\nset offer_value_2 = case when offer_value = 3 then 1 else 0 end;\n\nupdate model_data\nset offer_value_3 = case when offer_value = 0.75 then 1 else 0 end;\n\nupdate model_data\nset offer_value_4 = case when offer_value = 1.5 then 1 else 0 end;\n\nupdate model_data\nset offer_value_5 = case when offer_value = 1 then 1 else 0 end;\n\nupdate model_data\nset offer_value_6 = case when offer_value = 2 then 1 else 0 end;\n\n\nselect * from model_data;\n\nalter table model_data\ndrop column offer_value;",
   "execution_count": null
  },
  {
   "cell_type": "markdown",
   "id": "e4e1374b-8a83-4e59-bd87-d94b09786203",
   "metadata": {
    "name": "cell55",
    "collapsed": false,
    "resultHeight": 113
   },
   "source": "### Changing the datatype for previous_purchase, previous_purcahse_category, and reapeter\n\nDue to how the data is transferred into df's, I need to replace the boolean columns with integers of 1, and 0. Seems strange, but necessary."
  },
  {
   "cell_type": "code",
   "id": "35cafa8c-5e6c-46e9-8519-aed26813ed94",
   "metadata": {
    "language": "sql",
    "name": "cell51",
    "resultHeight": 0
   },
   "outputs": [],
   "source": "alter table model_data\nadd previous_purchase_int integer;\n\nalter table model_data\nadd previous_purchase_category_int integer;\n\nalter table model_data\nadd repeater_int integer;\n\nupdate model_data\nset previous_purchase_int = case when previous_purchase = true then 1 else 0 end;\n\nupdate model_data\nset previous_purchase_category_int = case when previous_purchase_category = true then 1 else 0 end;\n\nupdate model_data\nset repeater_int = case when repeater = true then 1 else 0 end;\n\nalter table model_data\ndrop column repeater;\n\nalter table model_data\ndrop column previous_purchase;\n\nalter table model_data\ndrop column previous_purchase_category;",
   "execution_count": null
  },
  {
   "cell_type": "markdown",
   "id": "ed3d6caf-50a8-4070-9623-c55dcc1bf97b",
   "metadata": {
    "name": "cell30",
    "collapsed": false,
    "resultHeight": 60
   },
   "source": "## Final training_table\n"
  },
  {
   "cell_type": "code",
   "id": "c30bbd50-1cbd-49c3-af9e-1a63020b0497",
   "metadata": {
    "language": "sql",
    "name": "cell31",
    "resultHeight": 0
   },
   "outputs": [],
   "source": "select * from model_data limit 5;",
   "execution_count": null
  },
  {
   "cell_type": "markdown",
   "id": "ebb1c86c-313c-430b-8f2c-7a2b24773487",
   "metadata": {
    "name": "cell32",
    "collapsed": false,
    "resultHeight": 60
   },
   "source": "## Add new feature, previous total purchase amount per customer_id"
  },
  {
   "cell_type": "code",
   "id": "f57d9c0b-d64f-4e7b-b5a3-5bc7290964b8",
   "metadata": {
    "language": "sql",
    "name": "cell33",
    "resultHeight": 0
   },
   "outputs": [],
   "source": "create or replace view customer_total as\nselect customer_id, sum(purchase_amount) as total, from transactions_main\nwhere purchase_amount > 0\ngroup by customer_id\norder by total;\n\nalter table model_data \nadd total float;\n\nupdate model_data t\nset total = coalesce(c.total, 0)\nfrom customer_total c\nwhere c.customer_id = t.customer_id;",
   "execution_count": null
  },
  {
   "cell_type": "code",
   "id": "37ac2c2e-5d63-4587-a04f-0f9c199c5a2d",
   "metadata": {
    "language": "sql",
    "name": "cell34",
    "resultHeight": 251
   },
   "outputs": [],
   "source": "select * from model_data limit 5;",
   "execution_count": null
  },
  {
   "cell_type": "code",
   "id": "d5133213-5742-4640-a72a-52b8a0ce7fa5",
   "metadata": {
    "language": "sql",
    "name": "cell36",
    "codeCollapsed": false
   },
   "outputs": [],
   "source": "",
   "execution_count": null
  }
 ]
}