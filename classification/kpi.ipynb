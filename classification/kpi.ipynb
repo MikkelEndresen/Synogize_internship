{
 "metadata": {
  "kernelspec": {
   "display_name": "Streamlit Notebook",
   "name": "streamlit"
  }
 },
 "nbformat_minor": 5,
 "nbformat": 4,
 "cells": [
  {
   "cell_type": "markdown",
   "id": "a5889c26-2a7a-4a00-b29e-6d49af659ac5",
   "metadata": {
    "name": "cell1",
    "collapsed": false,
    "resultHeight": 0
   },
   "source": "## Key Performance Indicator\n\nCalculating the expected profit/loss based on the different models and comparing them to the baseline."
  },
  {
   "cell_type": "markdown",
   "id": "526452aa-4128-4c55-922d-0c233ade3fba",
   "metadata": {
    "name": "cell7",
    "collapsed": false,
    "resultHeight": 143
   },
   "source": "## Calculator\n\n**Number of total customers that received an offer**\n\n- Since there is an 80 / 20 train test split the number will represent 20% of the total for model evaluation\n    "
  },
  {
   "cell_type": "code",
   "id": "d42c4f06-1eea-4ae0-885f-5f22280211ed",
   "metadata": {
    "language": "sql",
    "name": "cell3",
    "resultHeight": 111,
    "codeCollapsed": false
   },
   "outputs": [],
   "source": "select count(distinct customer_id) from history;",
   "execution_count": null
  },
  {
   "cell_type": "code",
   "id": "b3365b52-02a8-4245-a09a-2c7899bd36b5",
   "metadata": {
    "language": "python",
    "name": "cell4",
    "codeCollapsed": false,
    "resultHeight": 57
   },
   "outputs": [],
   "source": "total_num_customers = 160057\nnum_customers = int(total_num_customers * 0.2)\nnum_customers",
   "execution_count": null
  },
  {
   "cell_type": "markdown",
   "id": "2596a033-9be6-4295-bdbf-9725b99f5376",
   "metadata": {
    "name": "cell8",
    "collapsed": false,
    "resultHeight": 108
   },
   "source": "**Calculating baseline**\n\nCalculating a baseline percentage of returning customers to compare against ML models. The baseline percentage will simply be number of returning customers divided by the total number of customers that received an offer.\n"
  },
  {
   "cell_type": "code",
   "id": "dd1a756d-3483-473a-b833-729a1d7bfe0c",
   "metadata": {
    "language": "sql",
    "name": "cell2",
    "codeCollapsed": false,
    "resultHeight": 111
   },
   "outputs": [],
   "source": "select count(*) from history\nwhere repeater = True;",
   "execution_count": null
  },
  {
   "cell_type": "code",
   "id": "f9d168ed-105f-44a6-af85-f06c308b8e27",
   "metadata": {
    "language": "python",
    "name": "cell10",
    "resultHeight": 38,
    "codeCollapsed": false
   },
   "outputs": [],
   "source": "num_repeaters = 43438\nbaseline_percentage = num_repeaters / total_num_customers\nprint(f\"The Baseline Percentage of returners: {round(baseline_percentage * 100,2)}%\")",
   "execution_count": null
  },
  {
   "cell_type": "code",
   "id": "8d9e151f-4550-46a8-9289-6d348a9aa97b",
   "metadata": {
    "language": "python",
    "name": "cell30",
    "resultHeight": 60,
    "codeCollapsed": false
   },
   "outputs": [],
   "source": "print(f\"Number of true positives: {43438 * 0.2}\")\nprint(f\"Number of false positives: {(32011)-(43438 * 0.2)}\")",
   "execution_count": null
  },
  {
   "cell_type": "markdown",
   "id": "f0fef048-7079-44ec-bfd6-7f1c196f5abd",
   "metadata": {
    "name": "cell11",
    "collapsed": false,
    "resultHeight": 83
   },
   "source": "**Calculating the value of a returning customer**\n\nBasing this on the average spend per shop of all customers and the avereage number of repeat trips after an offer. "
  },
  {
   "cell_type": "code",
   "id": "57a4df71-7103-477f-9330-9237f4e23fc3",
   "metadata": {
    "language": "sql",
    "name": "cell12",
    "resultHeight": 111,
    "codeCollapsed": false
   },
   "outputs": [],
   "source": "select avg(checkout_amount) from checkouts;",
   "execution_count": null
  },
  {
   "cell_type": "code",
   "id": "69130b47-52e5-4a1f-b467-e8f8974f313e",
   "metadata": {
    "language": "sql",
    "name": "cell13",
    "codeCollapsed": false,
    "resultHeight": 111
   },
   "outputs": [],
   "source": "select avg(repeat_trips) from history\nwhere repeater = True;",
   "execution_count": null
  },
  {
   "cell_type": "code",
   "id": "7b39ee3b-70d2-4bce-94a1-59b2e558e9a3",
   "metadata": {
    "language": "python",
    "name": "cell14",
    "resultHeight": 38,
    "codeCollapsed": false
   },
   "outputs": [],
   "source": "val_returning_customer = 59.2402 * 2.4184\nprint(f\"The value of a returning customer is: {val_returning_customer}\")",
   "execution_count": null
  },
  {
   "cell_type": "markdown",
   "id": "d0b5ac30-fbbc-4786-b0cd-0e4c1c96675c",
   "metadata": {
    "name": "cell5",
    "collapsed": false,
    "resultHeight": 153
   },
   "source": "## Profit calculator\n\n\nThe number of true_positive customeers times the value of a returning customers minus the number of positively predicted customers times the cost per offer. In simpler terms, how much did you earn from returning customers - the cost of sending out offers."
  },
  {
   "cell_type": "code",
   "id": "721c741d-9752-4e87-bfc5-f2e989800e04",
   "metadata": {
    "language": "python",
    "name": "cell6",
    "resultHeight": 0,
    "codeCollapsed": false
   },
   "outputs": [],
   "source": "\n\ndef profit(tp, fp, tn, fn, cost_per_offer, val_returning_customer, num_customers):\n    \"\"\"\n    tp, fp, tn, fn, etc. on test set\n    - calcualte %\n    - use on full dataset = num_customers\n\n    tp_customers = %tp * num customers\n    fp_customers = %fp * num customers\n    \n    profit = (tp_customers * val_of_tp) - ((fp_customers + tp_customers)) * cost_per_offer)\n    \"\"\"\n    total_test_set = fp + tn + fn + tp\n    tp_percentage = tp / total_test_set\n    p_percentage = (tp + fp) / total_test_set\n    \n    tp_customers = num_customers * tp_percentage\n    p_customers = num_customers * p_percentage\n\n    profit = round((tp_customers * val_returning_customer) - (p_customers * cost_per_offer), 2)\n    return profit\n    \n    ",
   "execution_count": null
  },
  {
   "cell_type": "code",
   "id": "984e0203-3fe6-48ca-8c49-c0091ebb5631",
   "metadata": {
    "language": "python",
    "name": "cell9",
    "codeCollapsed": false,
    "resultHeight": 0
   },
   "outputs": [],
   "source": "cost_per_offer = [0.1, 0.25, 0.5, 0.75, 1, 5, 10, 25, 50]\nnum_customers = 160057\nval_returning_customer = 59.2402 * 2.4184\n    \ndef cost_for_model(tp, fp, tn, fn):\n    \n    profit_per_cost = []\n    for cost in cost_per_offer:\n        profit_cost = profit(tp, fp, tn, fn, cost, val_returning_customer, num_customers)\n        print(profit_cost)\n        profit_per_cost.append(profit_cost)\n    return profit_per_cost",
   "execution_count": null
  },
  {
   "cell_type": "code",
   "id": "4bfe61c3-45a7-46fc-9ad5-97ad28f63b99",
   "metadata": {
    "language": "python",
    "name": "cell19",
    "codeCollapsed": false,
    "resultHeight": 217
   },
   "outputs": [],
   "source": "# Precision optimal model\ntp = 1559\ntn = 1767\nfp = 21524\nfn = 7162\n\nprecision_profit = cost_for_model(tp, fp, tn, fn)",
   "execution_count": null
  },
  {
   "cell_type": "code",
   "id": "bde4afc0-a572-4913-af2b-9dd5a6032a1c",
   "metadata": {
    "language": "python",
    "name": "cell26",
    "codeCollapsed": false,
    "resultHeight": 217
   },
   "outputs": [],
   "source": "# Recall optimal model (threshold)\n\ntp = 8343\ntn = 1786\nfp = 21505\nfn = 378\n\nrecall_th_profit = cost_for_model(tp, fp, tn, fn)",
   "execution_count": null
  },
  {
   "cell_type": "code",
   "id": "57ff7bef-5f72-446e-bffd-3a4ec06aa301",
   "metadata": {
    "language": "python",
    "name": "cell29",
    "resultHeight": 217,
    "codeCollapsed": false
   },
   "outputs": [],
   "source": "# Baseline \n\ntp = 8687\ntn = 0\nfp = 23324\nfn = 0\n\nbaseline_profit = cost_for_model(tp, fp, tn, fn)",
   "execution_count": null
  },
  {
   "cell_type": "code",
   "id": "914b2ada-dfa6-456b-9844-fdf81f3fc32b",
   "metadata": {
    "language": "python",
    "name": "cell25",
    "resultHeight": 217,
    "codeCollapsed": false
   },
   "outputs": [],
   "source": "# Accuracy optimal model\ntp = 1549\ntn = 21532\nfp = 1759\nfn = 7172\n\naccuracy_profit = cost_for_model(tp, fp, tn, fn)",
   "execution_count": null
  },
  {
   "cell_type": "code",
   "id": "9b4c4f9e-d523-4faa-b364-fc9e5412097a",
   "metadata": {
    "language": "python",
    "name": "cell27",
    "resultHeight": 217,
    "codeCollapsed": false
   },
   "outputs": [],
   "source": "# F1 Score optimal model\n\ntp = 2561\ntn = 18338\nfp = 4953\nfn = 6160\n\nf1_score_profit = cost_for_model(tp, fp, tn, fn)",
   "execution_count": null
  },
  {
   "cell_type": "code",
   "id": "c764495a-5ed9-46e7-b80b-f5428d84f2e7",
   "metadata": {
    "language": "python",
    "name": "cell24",
    "resultHeight": 840,
    "codeCollapsed": false
   },
   "outputs": [],
   "source": "import matplotlib.pyplot as plt\n\nplt.figure(figsize=(10,6))  # Increased figure size for better readability\nplt.plot(cost_per_offer, precision_profit, label='Precision')\nplt.plot(cost_per_offer, accuracy_profit, label='Accuracy')\nplt.plot(cost_per_offer, recall_th_profit, label='Recall Threshold')\nplt.plot(cost_per_offer, f1_score_profit, label='F1 Score')\nplt.plot(cost_per_offer, baseline_profit, label='Baseline')\n\nplt.xlabel('Cost per Offer')\nplt.ylabel('Profit / Loss')\nplt.title('Profit Comparison')\nplt.legend()\nplt.grid(True)  # Added grid for easier reading\nplt.tight_layout()  # Adjusts plot to ensure all labels are visible\n\nplt.gca().get_yaxis().set_major_formatter(\n    plt.FuncFormatter(lambda x, p: format(int(x), ',')))\n\nplt.show()",
   "execution_count": null
  },
  {
   "cell_type": "markdown",
   "id": "509e1a7d-f452-49e5-900f-7818b01f27d6",
   "metadata": {
    "name": "cell15",
    "collapsed": false,
    "resultHeight": 60
   },
   "source": "## Viewing results"
  },
  {
   "cell_type": "code",
   "id": "291d4ed3-b3dd-42f4-9943-5bf0a293f394",
   "metadata": {
    "language": "sql",
    "name": "cell21",
    "resultHeight": 438,
    "codeCollapsed": false
   },
   "outputs": [],
   "source": "use database ml;\nuse schema model_results_schema;\n\nselect * from model_performance\norder by accuracy desc;",
   "execution_count": null
  },
  {
   "cell_type": "code",
   "id": "1c8f0c26-01d9-4aeb-8431-ecccc88d9f25",
   "metadata": {
    "language": "sql",
    "name": "cell22",
    "codeCollapsed": false,
    "resultHeight": 111
   },
   "outputs": [],
   "source": "select * from confusion_matrix\nwhere id = 109;",
   "execution_count": null
  }
 ]
}